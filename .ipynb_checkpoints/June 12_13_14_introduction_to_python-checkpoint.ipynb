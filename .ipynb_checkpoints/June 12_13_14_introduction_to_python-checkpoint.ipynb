{
 "cells": [
  {
   "cell_type": "code",
   "execution_count": null,
   "metadata": {},
   "outputs": [],
   "source": [
    "\n"
   ]
  },
  {
   "cell_type": "markdown",
   "metadata": {},
   "source": [
    "# Python Fundamental "
   ]
  },
  {
   "cell_type": "markdown",
   "metadata": {},
   "source": [
    "What is Programming Language ?\n",
    "\n",
    "--> set of predefined words that are combined into a program according to predefined rules(syntax). \n",
    "--> used to develop the application which helps in turn to get our task done.\n",
    "\n"
   ]
  },
  {
   "cell_type": "code",
   "execution_count": null,
   "metadata": {},
   "outputs": [],
   "source": [
    "Python is a high-level programming language celebrated for its simplicity, readability, and versatility.\n",
    "Python is the preferred programming language of most data scientists."
   ]
  },
  {
   "cell_type": "code",
   "execution_count": null,
   "metadata": {},
   "outputs": [],
   "source": [
    "People choose Python as their first programming language because:\n",
    "It is easy to learn, making it the best option for beginners.\n",
    "It has extensive inbuilt libraries.\n",
    "It is portable.\n",
    "It has sturdy frameworks.\n",
    "It is fast.\n",
    "It is open source and free.\n",
    "It is used in Data Science."
   ]
  },
  {
   "cell_type": "code",
   "execution_count": null,
   "metadata": {},
   "outputs": [],
   "source": [
    "Difference between High Level and Low level languages"
   ]
  },
  {
   "cell_type": "markdown",
   "metadata": {},
   "source": [
    "Both High level language and low level language are the programming languages’s types. The main difference between high level language and low level language is that, Programmers can easily understand or interpret or compile the high level language in comparison of machine. On the other hand, Machine can easily understand the low level language in comparison of human beings. Examples of high level languages are C, C++, Java, Python, etc.\n",
    "High level language needs compiler or interpreter for translation.\n",
    "\n",
    "Low level language needs assembler for translation.\n",
    "It is not commonly used now-a-days in programming."
   ]
  },
  {
   "cell_type": "markdown",
   "metadata": {},
   "source": [
    "What is Source code, Byte code and Machine code in Python?\n",
    "\n",
    "Source Code :- The code, written to develop the application.\n",
    "\n",
    "Byte code:- A fixed set of instructions that represents all operations like arithmetic, comparison, etc.\n",
    "The Byte code generated after the compilation of source code.\n",
    "\n",
    "Machine code:- The code generated after interpretation of byte code. "
   ]
  },
  {
   "cell_type": "code",
   "execution_count": null,
   "metadata": {},
   "outputs": [],
   "source": []
  },
  {
   "cell_type": "code",
   "execution_count": null,
   "metadata": {},
   "outputs": [],
   "source": [
    "#Difference between Compiler and Interpreter\n",
    "\n",
    "\n",
    "The Compiler and Interpreter, both have similar works to perform. Interpreters and Compilers convert the Source Code (HLL) \n",
    "to Machine Code (understandable by Computer). \n",
    "In general, computer programs exist in High-Level Language that a human being can easily understand. \n",
    "But computers cannot understand the same high-level language, so for computers, we have to convert them into machine language \n",
    "and make them readable for computers."
   ]
  },
  {
   "cell_type": "markdown",
   "metadata": {},
   "source": [
    "Compiler\n",
    "The Compiler is a translator which takes input i.e., High-Level Language, and produces an output of low-level language i.e. machine or assembly language. The work of a Compiler is to transform the codes written in the programming language into machine code (format of 0s and 1s) so that computers can understand."
   ]
  },
  {
   "cell_type": "code",
   "execution_count": null,
   "metadata": {},
   "outputs": [],
   "source": [
    "Execution of the program takes place only after the whole program is compiled."
   ]
  },
  {
   "cell_type": "code",
   "execution_count": null,
   "metadata": {},
   "outputs": [],
   "source": [
    "C, C++, C#, etc are programming languages that are compiler-based."
   ]
  },
  {
   "cell_type": "markdown",
   "metadata": {},
   "source": [
    "Interpreter\n",
    "An Interpreter is a program that translates a programming language into a comprehensible language. The interpreter converts high-level language to an intermediate language. It contains pre-compiled code, source code, etc."
   ]
  },
  {
   "cell_type": "code",
   "execution_count": null,
   "metadata": {},
   "outputs": [],
   "source": [
    "It translates only one statement of the program at a time.\n",
    "Execution of the program happens after every line is checked or evaluated."
   ]
  },
  {
   "cell_type": "code",
   "execution_count": null,
   "metadata": {},
   "outputs": [],
   "source": [
    "Python, Ruby, Perl, SNOBOL, MATLAB, etc are programming languages that are interpreter-based."
   ]
  },
  {
   "cell_type": "code",
   "execution_count": null,
   "metadata": {},
   "outputs": [],
   "source": [
    "Python is an interesting case—it combines both compilation and interpretation."
   ]
  },
  {
   "cell_type": "markdown",
   "metadata": {},
   "source": [
    "(1)Compilation: When you import a Python module in another program, Python generates a .pyc file (bytecode) for that module. This compilation step occurs behind the scenes, but it doesn’t produce machine code directly. Instead, Python compiles the code into bytecode, which is an intermediate representation."
   ]
  },
  {
   "cell_type": "markdown",
   "metadata": {},
   "source": [
    "(2)Interpretation: When you run Python code directly from the terminal or command prompt, the Python interpreter executes it. If you use a file containing Python code (e.g., running it in an IDE or via the command prompt), the entire code is first compiled into bytecode and then executed"
   ]
  },
  {
   "cell_type": "markdown",
   "metadata": {},
   "source": [
    "In summary, Python takes care of both compilation (to bytecode) and interpretation. So, you could say Python is both compiled and interpreted, although the compilation part is hidden from the programmer"
   ]
  },
  {
   "cell_type": "markdown",
   "metadata": {},
   "source": [
    "An IDE, or Integrated Development Environment, is a software application that provides comprehensive facilities for software development. It combines several essential tools into a single program, making it easier for programmers to write, test, and execute code."
   ]
  },
  {
   "cell_type": "code",
   "execution_count": null,
   "metadata": {},
   "outputs": [],
   "source": [
    "Jupyter"
   ]
  },
  {
   "cell_type": "code",
   "execution_count": null,
   "metadata": {},
   "outputs": [],
   "source": [
    "The Jupyter Notebook is an open source web application that you can use to \n",
    "create and share documents that contain live code, equations, visualizations, and text. "
   ]
  },
  {
   "cell_type": "code",
   "execution_count": null,
   "metadata": {},
   "outputs": [],
   "source": [
    "The Jupyter Notebook is not included with Python, so if you want to try it out, you will need to install Jupyter."
   ]
  },
  {
   "cell_type": "markdown",
   "metadata": {},
   "source": [
    "Installation\n",
    "If so, then you can use a handy tool that comes with Python called pip to install Jupyter Notebook like this:"
   ]
  },
  {
   "cell_type": "markdown",
   "metadata": {},
   "source": [
    "The most popular distribution of Python is Anaconda. Anaconda has its own installer tool called conda that you could use for installing a third-party package. However, Anaconda comes with many scientific libraries preinstalled, including the Jupyter Notebook, so you don’t actually need to do anything other than install Anaconda itself."
   ]
  },
  {
   "cell_type": "markdown",
   "metadata": {},
   "source": [
    "Jupyter is an open-source project that provides a flexible and interactive environment for data science, scientific computing, and machine learning. \n",
    "\n",
    "Here are the key components:-\n",
    "\n",
    "Jupyter Notebook: The original web application for creating and sharing computational documents. It allows you to write and execute code, create visualizations, and include explanatory text in a single document. You can use it with over 40 programming languages, including Python, R, Julia, and Scala.\n",
    "\n",
    "JupyterLab: A next-generation interface that extends the capabilities of Jupyter Notebook. It offers a modular design, allowing users to configure and arrange workflows. You can create notebooks, edit code files, and explore data using JupyterLab.\n",
    "\n",
    "Kernels: These are processes that run interactive code in specific programming languages . Kernels handle code execution and respond to requests like tab completion and introspection."
   ]
  },
  {
   "cell_type": "code",
   "execution_count": null,
   "metadata": {},
   "outputs": [],
   "source": []
  },
  {
   "cell_type": "markdown",
   "metadata": {},
   "source": [
    "# Anaconda"
   ]
  },
  {
   "cell_type": "markdown",
   "metadata": {},
   "source": [
    "Anaconda is a distribution of the Python  programming languages for scientific computing, data science, \n",
    "machine learning, and artificial intelligence. It includes a package manager, Jupyter Notebook, and other tools.\n",
    "\n",
    "Jupyter Notebook is an open-source IDE that allows to create and share documents that \n",
    "contain live code, equations, visualizations and narrative text. \n",
    "\n"
   ]
  },
  {
   "cell_type": "markdown",
   "metadata": {},
   "source": [
    "we can use Jupyter Notebook with Anaconda by installing Anaconda and then \n",
    "launching Jupyter Notebook from the Anaconda Navigator ."
   ]
  },
  {
   "cell_type": "markdown",
   "metadata": {},
   "source": [
    "Anaconda Installation:-"
   ]
  },
  {
   "cell_type": "code",
   "execution_count": null,
   "metadata": {},
   "outputs": [],
   "source": [
    "#https://www.anaconda.com/"
   ]
  },
  {
   "cell_type": "markdown",
   "metadata": {},
   "source": [
    "## jupyter "
   ]
  },
  {
   "cell_type": "markdown",
   "metadata": {},
   "source": [
    "start-->ANACONDA-->Jupyter Notebook"
   ]
  },
  {
   "cell_type": "markdown",
   "metadata": {},
   "source": [
    "Jupyter notebook -->interactive development environment for notebooks- USE FOR PYTHON CODING "
   ]
  },
  {
   "cell_type": "markdown",
   "metadata": {},
   "source": [
    "We are learing jupyter notebook"
   ]
  },
  {
   "cell_type": "code",
   "execution_count": null,
   "metadata": {},
   "outputs": [],
   "source": [
    "Starting the Jupyter Notebook Server"
   ]
  },
  {
   "cell_type": "markdown",
   "metadata": {},
   "source": [
    "Now that you have Jupyter installed,  To get started, all you need to do is open up your terminal application and go to a folder of your choice. "
   ]
  },
  {
   "cell_type": "code",
   "execution_count": null,
   "metadata": {},
   "outputs": [],
   "source": [
    "Creating a Notebook\n",
    "\n",
    "All you need to do is click on the New button (upper right), and it will open up a list of choices. "
   ]
  },
  {
   "cell_type": "code",
   "execution_count": null,
   "metadata": {},
   "outputs": [],
   "source": [
    "Naming\n",
    "You will notice that at the top of the page is the word Untitled.\n",
    "This is the title for the page and the name of your Notebook.\n",
    " let’s change it!\n",
    "\n",
    "Just move your mouse over the word Untitled and click on the text. \n",
    "   "
   ]
  },
  {
   "cell_type": "markdown",
   "metadata": {},
   "source": []
  },
  {
   "cell_type": "markdown",
   "metadata": {},
   "source": [
    "The Menus\n",
    "The Jupyter Notebook has several menus that you can use to interact with your Notebook. \n",
    "The menu runs along the top of the Notebook just like menus do in other applications. Here is a list of the current menus:\n",
    "\n",
    "File\n",
    "Edit\n",
    "View\n",
    "Run\n",
    "Kernel\n",
    "Help\n",
    "Code-Markdown"
   ]
  },
  {
   "cell_type": "markdown",
   "metadata": {},
   "source": [
    "The first menu is the File menu. In it, you can create a new Notebook or open a preexisting one. This is also where you would go to rename a Notebook. "
   ]
  },
  {
   "cell_type": "markdown",
   "metadata": {},
   "source": [
    "Next is the Edit menu. Here you can cut, copy, and paste cells. This is also where you would go if you wanted to delete, split, or merge a cell. "
   ]
  },
  {
   "cell_type": "code",
   "execution_count": null,
   "metadata": {},
   "outputs": [],
   "source": [
    "cell - where you write the code\n",
    "\n",
    "cell can be of two types\n",
    "\n",
    "1. coding cell - where you can write only the python code\n",
    "\n",
    "2. markdown cell - where you can write anything (notes)\n"
   ]
  },
  {
   "cell_type": "code",
   "execution_count": null,
   "metadata": {},
   "outputs": [],
   "source": [
    "Jupytr notebook extension:-\n",
    ".py and .ipynb"
   ]
  },
  {
   "cell_type": "code",
   "execution_count": null,
   "metadata": {},
   "outputs": [],
   "source": [
    "What is the difference between a .py file and .ipynb file?"
   ]
  },
  {
   "cell_type": "markdown",
   "metadata": {},
   "source": [
    ".py is a regular python file. It's plain text and contains just your code.\n",
    "\n",
    ".ipynb is a python notebook and it contains the notebook code, the execution results and other internal settings in a specific format. You can just run .ipynb on the jupyter environment."
   ]
  },
  {
   "cell_type": "code",
   "execution_count": null,
   "metadata": {},
   "outputs": [],
   "source": [
    "PYTHON-\n",
    "CORE PYTHON \n",
    "NUMPY\n",
    "PANDAS\n",
    "MATPLOTLIB/SEABORN"
   ]
  },
  {
   "cell_type": "markdown",
   "metadata": {},
   "source": [
    "# LETS START WORKING ON PYTHON -- JUPYTR NOTEBOOK"
   ]
  },
  {
   "cell_type": "markdown",
   "metadata": {},
   "source": [
    "#### print statement are used to print something on the screen"
   ]
  },
  {
   "cell_type": "markdown",
   "metadata": {},
   "source": [
    "# Print Statment\n",
    "## print Statment\n",
    "### print statment\n",
    "#### print statement\n",
    "##### print statement\n",
    "\n",
    "print statement are used to print something on the screen\n",
    "\n",
    "1. point1\n",
    "2. point2\n",
    "3. point3\n"
   ]
  },
  {
   "cell_type": "code",
   "execution_count": 2,
   "metadata": {},
   "outputs": [
    {
     "name": "stdout",
     "output_type": "stream",
     "text": [
      "Siddhant\n"
     ]
    }
   ],
   "source": [
    "print('Siddhant') "
   ]
  },
  {
   "cell_type": "code",
   "execution_count": 9,
   "metadata": {},
   "outputs": [
    {
     "name": "stdout",
     "output_type": "stream",
     "text": [
      "30\n"
     ]
    }
   ],
   "source": [
    "print(10+20)"
   ]
  },
  {
   "cell_type": "code",
   "execution_count": 8,
   "metadata": {},
   "outputs": [
    {
     "name": "stdout",
     "output_type": "stream",
     "text": [
      "10\n"
     ]
    }
   ],
   "source": [
    "print(\"10\")"
   ]
  },
  {
   "cell_type": "code",
   "execution_count": 4,
   "metadata": {},
   "outputs": [
    {
     "name": "stdout",
     "output_type": "stream",
     "text": [
      "we are learning python\n"
     ]
    }
   ],
   "source": [
    "print(\"we are learning python\")"
   ]
  },
  {
   "cell_type": "code",
   "execution_count": 5,
   "metadata": {},
   "outputs": [
    {
     "ename": "SyntaxError",
     "evalue": "invalid syntax. Perhaps you forgot a comma? (2661497197.py, line 1)",
     "output_type": "error",
     "traceback": [
      "\u001b[1;36m  Cell \u001b[1;32mIn[5], line 1\u001b[1;36m\u001b[0m\n\u001b[1;33m    print(we are learning python)\u001b[0m\n\u001b[1;37m          ^\u001b[0m\n\u001b[1;31mSyntaxError\u001b[0m\u001b[1;31m:\u001b[0m invalid syntax. Perhaps you forgot a comma?\n"
     ]
    }
   ],
   "source": [
    "print(we are learning python)"
   ]
  },
  {
   "cell_type": "code",
   "execution_count": 6,
   "metadata": {},
   "outputs": [
    {
     "name": "stdout",
     "output_type": "stream",
     "text": [
      "we are learning python\n"
     ]
    }
   ],
   "source": [
    "print('we are learning python')"
   ]
  },
  {
   "cell_type": "markdown",
   "metadata": {},
   "source": [
    "jupyter notebook -- filename.ipynb (interactive python notebook)\n",
    "\n",
    "uniserval extension python file - filename.py"
   ]
  },
  {
   "cell_type": "markdown",
   "metadata": {},
   "source": [
    "#  ways to execute python file\n",
    "\n",
    "1. jupyter notebook\n",
    "2. python interpreter  -- > python shell --> area where we can write python code\n",
    "3. pyhton file and \"RUN\" through terminal"
   ]
  },
  {
   "cell_type": "code",
   "execution_count": 333,
   "metadata": {},
   "outputs": [
    {
     "data": {
      "text/plain": [
       "'hello world\\nhello\\nhello\\nhello\\nhi\\npune\\n'"
      ]
     },
     "execution_count": 333,
     "metadata": {},
     "output_type": "execute_result"
    }
   ],
   "source": [
    "\"\"\"hello world\n",
    "hello\n",
    "hello\n",
    "hello\n",
    "hi\n",
    "pune\n",
    "\"\"\"\n"
   ]
  },
  {
   "cell_type": "code",
   "execution_count": 335,
   "metadata": {},
   "outputs": [],
   "source": [
    "#hello world"
   ]
  },
  {
   "cell_type": "code",
   "execution_count": null,
   "metadata": {},
   "outputs": [],
   "source": [
    "# literals\n",
    "\n",
    "- any value that you see in programming language\n",
    "\n",
    "types of literals\n",
    "\n",
    "1. int literals - any value without a decimal point for eg 10, 200, -900,1000\n",
    "2. float literals - any value with a decimal point for 10.0 , -99.999 , 100.23\n",
    "3. complex literals - any number that can be represented in the form of a+bj where a is real and b is \n",
    "imaginary for eg , 10+6j , -11-7j\n",
    "4. None literals - None\n",
    "5. Boolean literals - any value that is True / False\n",
    "6. string - any value that can be wriiten inside a '...' , \"....\" , \"\"\"...\"\"\""
   ]
  },
  {
   "cell_type": "code",
   "execution_count": 10,
   "metadata": {},
   "outputs": [],
   "source": [
    "a = 10 # int\n",
    "b = -22.0 # float\n",
    "c = True # boolean\n",
    "d = 'Mithil' # string\n",
    "e = None # none\n",
    "f = 200-7j # complex\n",
    "\n",
    "# 10 , -22.0 , True etc thes are called as literlas"
   ]
  },
  {
   "cell_type": "code",
   "execution_count": 2,
   "metadata": {},
   "outputs": [
    {
     "name": "stdout",
     "output_type": "stream",
     "text": [
      "10\n"
     ]
    }
   ],
   "source": [
    "print(a)"
   ]
  },
  {
   "cell_type": "code",
   "execution_count": 11,
   "metadata": {},
   "outputs": [
    {
     "name": "stdout",
     "output_type": "stream",
     "text": [
      "Mithil\n"
     ]
    }
   ],
   "source": [
    "print(d)"
   ]
  },
  {
   "cell_type": "code",
   "execution_count": 12,
   "metadata": {},
   "outputs": [],
   "source": [
    "d=\"Abhishek\""
   ]
  },
  {
   "cell_type": "code",
   "execution_count": 13,
   "metadata": {},
   "outputs": [
    {
     "name": "stdout",
     "output_type": "stream",
     "text": [
      "Abhishek\n"
     ]
    }
   ],
   "source": [
    "print(d)"
   ]
  },
  {
   "cell_type": "code",
   "execution_count": 14,
   "metadata": {},
   "outputs": [],
   "source": [
    "a=100"
   ]
  },
  {
   "cell_type": "code",
   "execution_count": 16,
   "metadata": {},
   "outputs": [
    {
     "name": "stdout",
     "output_type": "stream",
     "text": [
      "100\n"
     ]
    }
   ],
   "source": [
    "print(a)"
   ]
  },
  {
   "cell_type": "code",
   "execution_count": 17,
   "metadata": {},
   "outputs": [
    {
     "ename": "NameError",
     "evalue": "name 'A' is not defined",
     "output_type": "error",
     "traceback": [
      "\u001b[1;31m---------------------------------------------------------------------------\u001b[0m",
      "\u001b[1;31mNameError\u001b[0m                                 Traceback (most recent call last)",
      "Cell \u001b[1;32mIn[17], line 1\u001b[0m\n\u001b[1;32m----> 1\u001b[0m \u001b[38;5;28mprint\u001b[39m(A)\n",
      "\u001b[1;31mNameError\u001b[0m: name 'A' is not defined"
     ]
    }
   ],
   "source": [
    "print(A)"
   ]
  },
  {
   "cell_type": "markdown",
   "metadata": {},
   "source": [
    "constant and varibale are subset of indentifiers\n",
    "\n",
    "identifiers - any name used in python prohram so it can be a constant name , varibale name , \n",
    "class name , function\n",
    "\n",
    "Rules - \n",
    "\n",
    "1. allowed characters A-Z , a-z , 0-9 , _\n",
    "2. not allowed characters special characters\n",
    "3. you cannot start with a number 0-9\n",
    "4. Identifers are case sensitive\n",
    "5. all letters for constant should be capital (optional)\n",
    "6. Reserved word should not be used as identifer"
   ]
  },
  {
   "cell_type": "code",
   "execution_count": 18,
   "metadata": {},
   "outputs": [],
   "source": [
    "#  allowed characters A-Z , a-z , 0-9 , _\n",
    "\n",
    "abc = 20\n",
    "\n",
    "# a - varibale\n",
    "# = - op\n",
    "# 20 - literal\n"
   ]
  },
  {
   "cell_type": "code",
   "execution_count": 19,
   "metadata": {},
   "outputs": [],
   "source": [
    "# you cannot start with a number 0-9\n",
    "\n",
    "abhi10 = 20\n"
   ]
  },
  {
   "cell_type": "code",
   "execution_count": 20,
   "metadata": {},
   "outputs": [
    {
     "ename": "SyntaxError",
     "evalue": "invalid decimal literal (2823653107.py, line 1)",
     "output_type": "error",
     "traceback": [
      "\u001b[1;36m  Cell \u001b[1;32mIn[20], line 1\u001b[1;36m\u001b[0m\n\u001b[1;33m    10abhi = 50\u001b[0m\n\u001b[1;37m     ^\u001b[0m\n\u001b[1;31mSyntaxError\u001b[0m\u001b[1;31m:\u001b[0m invalid decimal literal\n"
     ]
    }
   ],
   "source": [
    "10abhi = 50"
   ]
  },
  {
   "cell_type": "code",
   "execution_count": 21,
   "metadata": {},
   "outputs": [
    {
     "name": "stdout",
     "output_type": "stream",
     "text": [
      "A is  20\n",
      "a is 10\n"
     ]
    }
   ],
   "source": [
    "# Identifers are case sensitive\n",
    "\n",
    "a = 10\n",
    "A = 20\n",
    "print(\"A is \",A)\n",
    "print(\"a is\",a)"
   ]
  },
  {
   "cell_type": "code",
   "execution_count": 22,
   "metadata": {},
   "outputs": [
    {
     "name": "stdout",
     "output_type": "stream",
     "text": [
      "A is \n",
      " 20\n",
      "a is   print in next line  \n",
      "    10\n"
     ]
    }
   ],
   "source": [
    "# Identifers are case sensitive\n",
    "\n",
    "a = 10\n",
    "A = 20\n",
    "print(\"A is \\n\",A)\n",
    "print(\"a is   print in next line  \\n   \",a)"
   ]
  },
  {
   "cell_type": "code",
   "execution_count": 23,
   "metadata": {},
   "outputs": [
    {
     "name": "stdout",
     "output_type": "stream",
     "text": [
      "['False', 'None', 'True', 'and', 'as', 'assert', 'async', 'await', 'break', 'class', 'continue', 'def', 'del', 'elif', 'else', 'except', 'finally', 'for', 'from', 'global', 'if', 'import', 'in', 'is', 'lambda', 'nonlocal', 'not', 'or', 'pass', 'raise', 'return', 'try', 'while', 'with', 'yield']\n"
     ]
    }
   ],
   "source": [
    "# Reserved word should not be used as identifer\n",
    "\n",
    "\"\"\"\n",
    "Reserved words - are those words which is alrerady takken by python for internal use\n",
    "\"\"\"\n",
    "\n",
    "import keyword\n",
    "print(keyword.kwlist)"
   ]
  },
  {
   "cell_type": "code",
   "execution_count": 24,
   "metadata": {},
   "outputs": [
    {
     "ename": "SyntaxError",
     "evalue": "invalid syntax (805873029.py, line 1)",
     "output_type": "error",
     "traceback": [
      "\u001b[1;36m  Cell \u001b[1;32mIn[24], line 1\u001b[1;36m\u001b[0m\n\u001b[1;33m    while = 100\u001b[0m\n\u001b[1;37m          ^\u001b[0m\n\u001b[1;31mSyntaxError\u001b[0m\u001b[1;31m:\u001b[0m invalid syntax\n"
     ]
    }
   ],
   "source": [
    "while = 100"
   ]
  },
  {
   "cell_type": "code",
   "execution_count": null,
   "metadata": {},
   "outputs": [],
   "source": []
  },
  {
   "cell_type": "markdown",
   "metadata": {},
   "source": [
    "NEXT TOPIC:-"
   ]
  },
  {
   "cell_type": "code",
   "execution_count": null,
   "metadata": {},
   "outputs": [],
   "source": []
  },
  {
   "cell_type": "markdown",
   "metadata": {},
   "source": [
    "Types of operation that we can perform on integers"
   ]
  },
  {
   "cell_type": "code",
   "execution_count": 25,
   "metadata": {},
   "outputs": [
    {
     "name": "stdout",
     "output_type": "stream",
     "text": [
      "12\n",
      "8\n",
      "20\n",
      "5.0\n",
      "3.3333333333333335\n",
      "3.0\n",
      "3.0\n",
      "1\n",
      "3\n",
      "10000\n",
      "10000\n"
     ]
    }
   ],
   "source": [
    "print(10+2) # +\n",
    "\n",
    "print(10-2) # -\n",
    "\n",
    "print(10*2) # *\n",
    "\n",
    "print(10/2) # but the answer will be always in the float\n",
    "\n",
    "print(10/3)\n",
    "\n",
    "print(10.0//3) #floor divsion\n",
    "\n",
    "print(10//3.0)\n",
    "\n",
    "print(10%3) # modulo --> remainder\n",
    "\n",
    "print(15%4)\n",
    "\n",
    "print(100**2)\n",
    "\n",
    "print(pow(100,2))"
   ]
  },
  {
   "cell_type": "code",
   "execution_count": 17,
   "metadata": {},
   "outputs": [
    {
     "data": {
      "text/plain": [
       "'\\n- it always gives the output(return) value inf form True / False (Bool)\\n- int vs int\\n- float vs float\\n- int vs float\\n- str vs str\\n'"
      ]
     },
     "execution_count": 17,
     "metadata": {},
     "output_type": "execute_result"
    }
   ],
   "source": [
    "# Comaprison operator , > , >= , <= , <\n",
    "\n",
    "\"\"\"\n",
    "- it always gives the output(return) value inf form True / False (Bool)\n",
    "- int vs int\n",
    "- float vs float\n",
    "- int vs float\n",
    "- str vs str\n",
    "\"\"\""
   ]
  },
  {
   "cell_type": "code",
   "execution_count": 26,
   "metadata": {},
   "outputs": [
    {
     "name": "stdout",
     "output_type": "stream",
     "text": [
      "False\n"
     ]
    }
   ],
   "source": [
    "a = 100\n",
    "b = 20\n",
    "\n",
    "print(a<b)"
   ]
  },
  {
   "cell_type": "code",
   "execution_count": 27,
   "metadata": {},
   "outputs": [
    {
     "name": "stdout",
     "output_type": "stream",
     "text": [
      "True\n"
     ]
    }
   ],
   "source": [
    "a = 100\n",
    "b = 20\n",
    "\n",
    "print(a>b)"
   ]
  },
  {
   "cell_type": "code",
   "execution_count": 20,
   "metadata": {},
   "outputs": [
    {
     "name": "stdout",
     "output_type": "stream",
     "text": [
      "True\n"
     ]
    }
   ],
   "source": [
    "a = 10\n",
    "b = 20.5\n",
    "\n",
    "print(a<=b)"
   ]
  },
  {
   "cell_type": "code",
   "execution_count": 28,
   "metadata": {},
   "outputs": [
    {
     "ename": "TypeError",
     "evalue": "'<' not supported between instances of 'str' and 'float'",
     "output_type": "error",
     "traceback": [
      "\u001b[1;31m---------------------------------------------------------------------------\u001b[0m",
      "\u001b[1;31mTypeError\u001b[0m                                 Traceback (most recent call last)",
      "Cell \u001b[1;32mIn[28], line 4\u001b[0m\n\u001b[0;32m      1\u001b[0m a \u001b[38;5;241m=\u001b[39m \u001b[38;5;124m'\u001b[39m\u001b[38;5;124mabc\u001b[39m\u001b[38;5;124m'\u001b[39m\n\u001b[0;32m      2\u001b[0m b \u001b[38;5;241m=\u001b[39m \u001b[38;5;241m100.0\u001b[39m\n\u001b[1;32m----> 4\u001b[0m \u001b[38;5;28mprint\u001b[39m(a\u001b[38;5;241m<\u001b[39mb)\n",
      "\u001b[1;31mTypeError\u001b[0m: '<' not supported between instances of 'str' and 'float'"
     ]
    }
   ],
   "source": [
    "a = 'abc'\n",
    "b = 100.0\n",
    "\n",
    "print(a<b)"
   ]
  },
  {
   "cell_type": "code",
   "execution_count": 30,
   "metadata": {},
   "outputs": [
    {
     "name": "stdout",
     "output_type": "stream",
     "text": [
      "True\n"
     ]
    }
   ],
   "source": [
    "a = 'abc'\n",
    "b = \"xyz\"\n",
    "\n",
    "print(a<b)"
   ]
  },
  {
   "cell_type": "code",
   "execution_count": 31,
   "metadata": {},
   "outputs": [
    {
     "name": "stdout",
     "output_type": "stream",
     "text": [
      "False\n"
     ]
    }
   ],
   "source": [
    "x=\"abc\"\n",
    "y=\"aac\"\n",
    "print(x<y)"
   ]
  },
  {
   "cell_type": "code",
   "execution_count": 32,
   "metadata": {},
   "outputs": [
    {
     "name": "stdout",
     "output_type": "stream",
     "text": [
      "True\n"
     ]
    }
   ],
   "source": [
    "a=\"z\"\n",
    "b=\"m\"\n",
    "print(a>b)"
   ]
  },
  {
   "cell_type": "markdown",
   "metadata": {},
   "source": [
    "transformation of string to no. \n",
    "a,m,z\n",
    "\n",
    "a-->0\n",
    "m-->1\n",
    "z-->2\n",
    "\n",
    "if only m , z\n",
    "- m-->0 z-->1"
   ]
  },
  {
   "cell_type": "code",
   "execution_count": 26,
   "metadata": {},
   "outputs": [],
   "source": [
    "#it is following dictionary "
   ]
  },
  {
   "cell_type": "code",
   "execution_count": 33,
   "metadata": {},
   "outputs": [],
   "source": [
    "a=\"xyz\""
   ]
  },
  {
   "cell_type": "code",
   "execution_count": 34,
   "metadata": {},
   "outputs": [
    {
     "name": "stdout",
     "output_type": "stream",
     "text": [
      "xyz\n"
     ]
    }
   ],
   "source": [
    "print(a)"
   ]
  },
  {
   "cell_type": "code",
   "execution_count": 35,
   "metadata": {},
   "outputs": [],
   "source": [
    "b='abc'"
   ]
  },
  {
   "cell_type": "code",
   "execution_count": 30,
   "metadata": {},
   "outputs": [
    {
     "name": "stdout",
     "output_type": "stream",
     "text": [
      "abc\n"
     ]
    }
   ],
   "source": [
    "print(b)"
   ]
  },
  {
   "cell_type": "code",
   "execution_count": 38,
   "metadata": {},
   "outputs": [
    {
     "name": "stdout",
     "output_type": "stream",
     "text": [
      "long sentence also \n",
      "longggggggg lonnngggggg\n"
     ]
    }
   ],
   "source": [
    "a=\"\"\"long sentence also \n",
    "longggggggg lonnngggggg\"\"\"\n",
    "print(a)"
   ]
  },
  {
   "cell_type": "code",
   "execution_count": 39,
   "metadata": {},
   "outputs": [],
   "source": [
    "a=\"\"\"long sentence also\n",
    "longggggggg\n",
    "lonnngggggg\n",
    "\n",
    "qqqqqq\n",
    "qqqqqqqq\n",
    "ssa\n",
    "ss\n",
    "\n",
    "aaaaaa\n",
    "\n",
    "\"\"\""
   ]
  },
  {
   "cell_type": "code",
   "execution_count": 40,
   "metadata": {},
   "outputs": [
    {
     "name": "stdout",
     "output_type": "stream",
     "text": [
      "long sentence also\n",
      "longggggggg\n",
      "lonnngggggg\n",
      "\n",
      "qqqqqq\n",
      "qqqqqqqq\n",
      "ssa\n",
      "ss\n",
      "\n",
      "aaaaaa\n",
      "\n",
      "\n"
     ]
    }
   ],
   "source": [
    "print(a)"
   ]
  },
  {
   "cell_type": "code",
   "execution_count": 33,
   "metadata": {},
   "outputs": [
    {
     "ename": "SyntaxError",
     "evalue": "unterminated string literal (detected at line 1) (1172556285.py, line 1)",
     "output_type": "error",
     "traceback": [
      "\u001b[1;36m  Cell \u001b[1;32mIn[33], line 1\u001b[1;36m\u001b[0m\n\u001b[1;33m    a=\"hello lohngggg\u001b[0m\n\u001b[1;37m      ^\u001b[0m\n\u001b[1;31mSyntaxError\u001b[0m\u001b[1;31m:\u001b[0m unterminated string literal (detected at line 1)\n"
     ]
    }
   ],
   "source": [
    "a=\"hello lohngggg\n",
    "longggggg\""
   ]
  },
  {
   "cell_type": "code",
   "execution_count": 41,
   "metadata": {},
   "outputs": [
    {
     "name": "stdout",
     "output_type": "stream",
     "text": [
      "True\n"
     ]
    }
   ],
   "source": [
    "a = 'a'\n",
    "b = \"b\"\n",
    "\n",
    "print(a<b)"
   ]
  },
  {
   "cell_type": "markdown",
   "metadata": {},
   "source": [
    "department:- sales,marketing,hrd\n",
    "    hrd-->0\n",
    "    marketing-->1\n",
    "    sales-->2"
   ]
  },
  {
   "cell_type": "code",
   "execution_count": 35,
   "metadata": {},
   "outputs": [],
   "source": [
    "# typecasting\n",
    "# input and out function in python\n",
    "# float\n",
    "# none\n",
    "# complex\n",
    "# string - intro"
   ]
  },
  {
   "cell_type": "code",
   "execution_count": 42,
   "metadata": {},
   "outputs": [
    {
     "data": {
      "text/plain": [
       "set()"
      ]
     },
     "execution_count": 42,
     "metadata": {},
     "output_type": "execute_result"
    }
   ],
   "source": [
    "# typecasting - converting one datatype to another\n",
    "\n",
    "int()\n",
    "float()\n",
    "str()\n",
    "complex()\n",
    "bool()\n",
    "\n",
    "list()\n",
    "tuple()\n",
    "dict()\n",
    "set()"
   ]
  },
  {
   "cell_type": "code",
   "execution_count": 44,
   "metadata": {},
   "outputs": [
    {
     "name": "stdout",
     "output_type": "stream",
     "text": [
      "<class 'int'>\n",
      "<class 'str'> 10\n"
     ]
    }
   ],
   "source": [
    "a = 10\n",
    "print(type( a))\n",
    "\n",
    "# int to str\n",
    "\n",
    "b = str(10)\n",
    "print(type(b),b)\n",
    "\n"
   ]
  },
  {
   "cell_type": "code",
   "execution_count": 45,
   "metadata": {},
   "outputs": [
    {
     "data": {
      "text/plain": [
       "20"
      ]
     },
     "execution_count": 45,
     "metadata": {},
     "output_type": "execute_result"
    }
   ],
   "source": [
    "a+a"
   ]
  },
  {
   "cell_type": "code",
   "execution_count": 46,
   "metadata": {},
   "outputs": [
    {
     "ename": "TypeError",
     "evalue": "unsupported operand type(s) for +: 'int' and 'str'",
     "output_type": "error",
     "traceback": [
      "\u001b[1;31m---------------------------------------------------------------------------\u001b[0m",
      "\u001b[1;31mTypeError\u001b[0m                                 Traceback (most recent call last)",
      "Cell \u001b[1;32mIn[46], line 1\u001b[0m\n\u001b[1;32m----> 1\u001b[0m a\u001b[38;5;241m+\u001b[39mb\n",
      "\u001b[1;31mTypeError\u001b[0m: unsupported operand type(s) for +: 'int' and 'str'"
     ]
    }
   ],
   "source": [
    "a+b"
   ]
  },
  {
   "cell_type": "code",
   "execution_count": 48,
   "metadata": {},
   "outputs": [
    {
     "data": {
      "text/plain": [
       "'1010'"
      ]
     },
     "execution_count": 48,
     "metadata": {},
     "output_type": "execute_result"
    }
   ],
   "source": [
    "b+b"
   ]
  },
  {
   "cell_type": "code",
   "execution_count": 49,
   "metadata": {},
   "outputs": [],
   "source": [
    "x=\"india\"\n",
    "y=\"usa\""
   ]
  },
  {
   "cell_type": "code",
   "execution_count": 50,
   "metadata": {},
   "outputs": [
    {
     "data": {
      "text/plain": [
       "'indiausa'"
      ]
     },
     "execution_count": 50,
     "metadata": {},
     "output_type": "execute_result"
    }
   ],
   "source": [
    "x+y"
   ]
  },
  {
   "cell_type": "code",
   "execution_count": 43,
   "metadata": {},
   "outputs": [],
   "source": [
    "# Input and output function in python"
   ]
  },
  {
   "cell_type": "markdown",
   "metadata": {},
   "source": [
    "Input - which takes input from the user\n",
    "- input fucntion always return a string data type"
   ]
  },
  {
   "cell_type": "code",
   "execution_count": 51,
   "metadata": {},
   "outputs": [
    {
     "name": "stdout",
     "output_type": "stream",
     "text": [
      "40\n"
     ]
    }
   ],
   "source": [
    "a = 20\n",
    "b = 20\n",
    "\n",
    "print(a+b)"
   ]
  },
  {
   "cell_type": "code",
   "execution_count": 52,
   "metadata": {},
   "outputs": [
    {
     "name": "stdin",
     "output_type": "stream",
     "text": [
      "enter the first number value of a: 50\n",
      "enter the second number value of b 100\n"
     ]
    },
    {
     "name": "stdout",
     "output_type": "stream",
     "text": [
      "50 100\n"
     ]
    }
   ],
   "source": [
    "# write a program to take first name and second name from user and print as a full name\n",
    "\n",
    "a = (input('enter the first number value of a:'))\n",
    "b = (input('enter the second number value of b'))\n",
    "print(a+\" \"+b)"
   ]
  },
  {
   "cell_type": "code",
   "execution_count": null,
   "metadata": {},
   "outputs": [],
   "source": []
  },
  {
   "cell_type": "code",
   "execution_count": 53,
   "metadata": {},
   "outputs": [
    {
     "name": "stdin",
     "output_type": "stream",
     "text": [
      "enter the first number: 200\n",
      "enter the second number 300\n"
     ]
    },
    {
     "name": "stdout",
     "output_type": "stream",
     "text": [
      "<class 'str'> 200\n",
      "<class 'str'> 300\n",
      "200300\n"
     ]
    }
   ],
   "source": [
    "a = input('enter the first number:')\n",
    "b = input('enter the second number')\n",
    "\n",
    "print(type(a),a)\n",
    "print(type(b) ,b)\n",
    "\n",
    "print(a+b)\n",
    "\n",
    "# after giving the input press the enter button"
   ]
  },
  {
   "cell_type": "code",
   "execution_count": 54,
   "metadata": {},
   "outputs": [
    {
     "data": {
      "text/plain": [
       "'1010'"
      ]
     },
     "execution_count": 54,
     "metadata": {},
     "output_type": "execute_result"
    }
   ],
   "source": [
    "'10'+'10'"
   ]
  },
  {
   "cell_type": "code",
   "execution_count": 55,
   "metadata": {},
   "outputs": [
    {
     "data": {
      "text/plain": [
       "'Ramshyam'"
      ]
     },
     "execution_count": 55,
     "metadata": {},
     "output_type": "execute_result"
    }
   ],
   "source": [
    "\"Ram\"+\"shyam\""
   ]
  },
  {
   "cell_type": "code",
   "execution_count": 1,
   "metadata": {},
   "outputs": [
    {
     "name": "stdin",
     "output_type": "stream",
     "text": [
      "enter the first number: 400.5\n",
      "enetr the second number 200.9\n"
     ]
    },
    {
     "name": "stdout",
     "output_type": "stream",
     "text": [
      "<class 'float'> 400.5\n",
      "<class 'float'> 200.9\n",
      "601.4\n"
     ]
    }
   ],
   "source": [
    "a = float(input('enter the first number:'))\n",
    "b = float(input('enetr the second number'))\n",
    "print(type(a),a)\n",
    "print(type(b) ,b)\n",
    "print(a+b)"
   ]
  },
  {
   "cell_type": "code",
   "execution_count": 2,
   "metadata": {},
   "outputs": [
    {
     "name": "stdin",
     "output_type": "stream",
     "text": [
      "enter the first number: 200.76\n",
      "enetr the second number 300.98\n"
     ]
    },
    {
     "name": "stdout",
     "output_type": "stream",
     "text": [
      "<class 'float'> 200.76\n",
      "<class 'float'> 300.98\n",
      "-100.22000000000003\n"
     ]
    }
   ],
   "source": [
    "a = float(input('enter the first number:'))\n",
    "b = float(input('enetr the second number'))\n",
    "print(type(a),a)\n",
    "print(type(b) ,b)\n",
    "print(a-b)"
   ]
  },
  {
   "cell_type": "code",
   "execution_count": 3,
   "metadata": {},
   "outputs": [
    {
     "name": "stdin",
     "output_type": "stream",
     "text": [
      "enter the first number: 400.87\n",
      "enetr the second number 56.98\n"
     ]
    },
    {
     "name": "stdout",
     "output_type": "stream",
     "text": [
      "<class 'float'> 400.87\n",
      "<class 'float'> 56.98\n",
      "457.85\n"
     ]
    }
   ],
   "source": [
    "# eval\n",
    "sums = 200\n",
    "a = eval(input('enter the first number:'))\n",
    "b = eval(input('enetr the second number'))\n",
    "print(type(a),a)\n",
    "print(type(b) ,b)\n",
    "print(a+b)"
   ]
  },
  {
   "cell_type": "code",
   "execution_count": 59,
   "metadata": {},
   "outputs": [
    {
     "name": "stdin",
     "output_type": "stream",
     "text": [
      "enter the first name: ajay\n",
      "enetr the second name jay\n"
     ]
    },
    {
     "name": "stdout",
     "output_type": "stream",
     "text": [
      "ajay jay\n"
     ]
    }
   ],
   "source": [
    "# write a program to take first name and second name from user and print as a full name\n",
    "\n",
    "a = (input('enter the first name:'))\n",
    "b = (input('enetr the second name'))\n",
    "print(a+\" \"+b)"
   ]
  },
  {
   "cell_type": "code",
   "execution_count": 55,
   "metadata": {},
   "outputs": [
    {
     "name": "stdout",
     "output_type": "stream",
     "text": [
      "enter the first number:30\n",
      "enetr the second number40\n",
      "30 40\n"
     ]
    }
   ],
   "source": [
    "a = (input('enter the first number:'))\n",
    "b = (input('enetr the second number'))\n",
    "print(a,b)"
   ]
  },
  {
   "cell_type": "code",
   "execution_count": 60,
   "metadata": {},
   "outputs": [
    {
     "name": "stdin",
     "output_type": "stream",
     "text": [
      "Enter first name :  mks\n"
     ]
    },
    {
     "ename": "NameError",
     "evalue": "name 'mks' is not defined",
     "output_type": "error",
     "traceback": [
      "\u001b[1;31m---------------------------------------------------------------------------\u001b[0m",
      "\u001b[1;31mNameError\u001b[0m                                 Traceback (most recent call last)",
      "Cell \u001b[1;32mIn[60], line 1\u001b[0m\n\u001b[1;32m----> 1\u001b[0m First_Name \u001b[38;5;241m=\u001b[39m \u001b[38;5;28meval\u001b[39m(\u001b[38;5;28minput\u001b[39m(\u001b[38;5;124m\"\u001b[39m\u001b[38;5;124mEnter first name : \u001b[39m\u001b[38;5;124m\"\u001b[39m) )\n\u001b[0;32m      2\u001b[0m Last_Name \u001b[38;5;241m=\u001b[39m \u001b[38;5;28meval\u001b[39m(\u001b[38;5;28minput\u001b[39m(\u001b[38;5;124m\"\u001b[39m\u001b[38;5;124mEnter last name : \u001b[39m\u001b[38;5;124m\"\u001b[39m)) \n\u001b[0;32m      3\u001b[0m \u001b[38;5;28mprint\u001b[39m(\u001b[38;5;124m\"\u001b[39m\u001b[38;5;124mMy First name is :\u001b[39m\u001b[38;5;124m\"\u001b[39m, First_Name,\u001b[38;5;124m\"\u001b[39m\u001b[38;5;124mand my Last name is :\u001b[39m\u001b[38;5;124m\"\u001b[39m,Last_Name)\n",
      "File \u001b[1;32m<string>:1\u001b[0m\n",
      "\u001b[1;31mNameError\u001b[0m: name 'mks' is not defined"
     ]
    }
   ],
   "source": [
    "First_Name = eval(input(\"Enter first name : \") )\n",
    "Last_Name = eval(input(\"Enter last name : \")) \n",
    "print(\"My First name is :\", First_Name,\"and my Last name is :\",Last_Name) "
   ]
  },
  {
   "cell_type": "markdown",
   "metadata": {},
   "source": [
    "Python provides us with a number of in-built data structures such as lists, tuples and dictionaries\n",
    "that are used to store and organize the data in an efficient manner.\n",
    "\n",
    "list=[]\n",
    "tuple=()\n",
    "dictionary={}"
   ]
  },
  {
   "cell_type": "code",
   "execution_count": null,
   "metadata": {},
   "outputs": [],
   "source": [
    "# String Data type"
   ]
  },
  {
   "cell_type": "code",
   "execution_count": null,
   "metadata": {},
   "outputs": [],
   "source": [
    "#anything that can be written inside a '...' . \"...\" , \"\"\"....\"\"\""
   ]
  },
  {
   "cell_type": "code",
   "execution_count": 1,
   "metadata": {},
   "outputs": [
    {
     "name": "stdout",
     "output_type": "stream",
     "text": [
      "python <class 'str'>\n",
      "python <class 'str'>\n",
      "python <class 'str'>\n"
     ]
    }
   ],
   "source": [
    "s1 = 'python'\n",
    "print(s1, type(s1))\n",
    "s1 = \"python\"\n",
    "print(s1, type(s1))\n",
    "s1 = \"\"\"python\"\"\"\n",
    "print(s1, type(s1))"
   ]
  },
  {
   "cell_type": "code",
   "execution_count": 2,
   "metadata": {},
   "outputs": [
    {
     "name": "stdout",
     "output_type": "stream",
     "text": [
      "this is python's class\n"
     ]
    }
   ],
   "source": [
    "a = \"this is python's class\"\n",
    "print(a)"
   ]
  },
  {
   "cell_type": "code",
   "execution_count": 3,
   "metadata": {},
   "outputs": [
    {
     "name": "stdout",
     "output_type": "stream",
     "text": [
      "this is a \"GBU\" class\n"
     ]
    }
   ],
   "source": [
    "a = 'this is a \"GBU\" class'\n",
    "print(a)"
   ]
  },
  {
   "cell_type": "code",
   "execution_count": null,
   "metadata": {},
   "outputs": [],
   "source": [
    "a =\"\"\"this is a\n",
    "single quotes\"\"\"\n",
    "\n",
    "print(a)"
   ]
  },
  {
   "cell_type": "code",
   "execution_count": null,
   "metadata": {},
   "outputs": [],
   "source": [
    "'''\n",
    "hey this a \n",
    "a multiple \"\"\"line\"\"\" commenet\n",
    "'''\n",
    "\n",
    "print('hey')"
   ]
  },
  {
   "cell_type": "code",
   "execution_count": 4,
   "metadata": {},
   "outputs": [
    {
     "name": "stdout",
     "output_type": "stream",
     "text": [
      "hey\n"
     ]
    }
   ],
   "source": [
    "100\n",
    "\n",
    "print('hey')"
   ]
  },
  {
   "cell_type": "code",
   "execution_count": null,
   "metadata": {},
   "outputs": [],
   "source": []
  },
  {
   "cell_type": "code",
   "execution_count": null,
   "metadata": {},
   "outputs": [],
   "source": []
  },
  {
   "cell_type": "code",
   "execution_count": null,
   "metadata": {},
   "outputs": [],
   "source": []
  },
  {
   "cell_type": "code",
   "execution_count": null,
   "metadata": {},
   "outputs": [],
   "source": []
  },
  {
   "cell_type": "markdown",
   "metadata": {},
   "source": [
    "# list"
   ]
  },
  {
   "cell_type": "code",
   "execution_count": null,
   "metadata": {},
   "outputs": [],
   "source": []
  },
  {
   "cell_type": "code",
   "execution_count": null,
   "metadata": {},
   "outputs": [],
   "source": []
  },
  {
   "cell_type": "code",
   "execution_count": null,
   "metadata": {},
   "outputs": [],
   "source": []
  },
  {
   "cell_type": "code",
   "execution_count": null,
   "metadata": {},
   "outputs": [],
   "source": [
    "# list\n",
    "\n",
    "- anything that can be wriiten inside a [ ] and elements are sep by commas"
   ]
  },
  {
   "cell_type": "code",
   "execution_count": 4,
   "metadata": {},
   "outputs": [
    {
     "name": "stdout",
     "output_type": "stream",
     "text": [
      "<class 'list'>\n"
     ]
    }
   ],
   "source": [
    "a = [1,2,3,4,5]\n",
    "print(type(a))"
   ]
  },
  {
   "cell_type": "code",
   "execution_count": 6,
   "metadata": {},
   "outputs": [],
   "source": [
    "b=[10,-2.30,0.7,20,700]"
   ]
  },
  {
   "cell_type": "code",
   "execution_count": 7,
   "metadata": {},
   "outputs": [
    {
     "name": "stdout",
     "output_type": "stream",
     "text": [
      "<class 'list'>\n"
     ]
    }
   ],
   "source": [
    "print(type(b))"
   ]
  },
  {
   "cell_type": "code",
   "execution_count": 8,
   "metadata": {},
   "outputs": [
    {
     "name": "stdout",
     "output_type": "stream",
     "text": [
      "7\n"
     ]
    }
   ],
   "source": [
    "# len of list\n",
    "\n",
    "a = [1,2,3,4,5,10,20]\n",
    "print(len(a))"
   ]
  },
  {
   "cell_type": "code",
   "execution_count": 9,
   "metadata": {},
   "outputs": [
    {
     "data": {
      "text/plain": [
       "5"
      ]
     },
     "execution_count": 9,
     "metadata": {},
     "output_type": "execute_result"
    }
   ],
   "source": [
    "len(b)"
   ]
  },
  {
   "cell_type": "code",
   "execution_count": 59,
   "metadata": {},
   "outputs": [],
   "source": [
    "a = [1,2,3,4,5]\n",
    "# forward direction indexing 0,1,2,3,4,5,6,........\n",
    "#backward direction indexing .....,-4,-3,-2,-1"
   ]
  },
  {
   "cell_type": "code",
   "execution_count": 10,
   "metadata": {},
   "outputs": [],
   "source": [
    "a = [10,20,30,40,50,60,70,80,90,100]"
   ]
  },
  {
   "cell_type": "code",
   "execution_count": 11,
   "metadata": {},
   "outputs": [
    {
     "name": "stdout",
     "output_type": "stream",
     "text": [
      "90\n",
      "20\n",
      "100\n",
      "50\n",
      "10\n",
      "40\n"
     ]
    }
   ],
   "source": [
    "print(a[-2])\n",
    "\n",
    "print(a[1])\n",
    "print(a[-1])\n",
    "print(a[-6])\n",
    "print(a[0])\n",
    "print(a[3])"
   ]
  },
  {
   "cell_type": "code",
   "execution_count": null,
   "metadata": {},
   "outputs": [],
   "source": []
  },
  {
   "cell_type": "code",
   "execution_count": 12,
   "metadata": {},
   "outputs": [
    {
     "name": "stdout",
     "output_type": "stream",
     "text": [
      "5\n",
      "2\n",
      "6\n",
      "1\n",
      "1\n",
      "4\n"
     ]
    }
   ],
   "source": [
    "# indexing\n",
    "#supports +ve and -ve indexing\n",
    "\n",
    "a = [1,2,3,4,5,6]\n",
    "\n",
    "print(a[-2])\n",
    "\n",
    "print(a[1])\n",
    "print(a[-1])\n",
    "print(a[-6])\n",
    "print(a[0])\n",
    "print(a[3])"
   ]
  },
  {
   "cell_type": "code",
   "execution_count": 13,
   "metadata": {},
   "outputs": [
    {
     "name": "stdout",
     "output_type": "stream",
     "text": [
      "[1, 1, 1, 1, 1, 1, 1, 1, 1]\n",
      "<class 'list'>\n"
     ]
    }
   ],
   "source": [
    "#allows duplicate element\n",
    "\n",
    "a = [1,1,1,1,1,1,1,1,1]\n",
    "\n",
    "print(a)\n",
    "print(type(a))"
   ]
  },
  {
   "cell_type": "code",
   "execution_count": 14,
   "metadata": {},
   "outputs": [
    {
     "name": "stdout",
     "output_type": "stream",
     "text": [
      "[1, 2.2, (10+6j), None, (1, 2, 3), 'abc', True, False]\n"
     ]
    }
   ],
   "source": [
    "#it can store any data type\n",
    "\n",
    "a = [1 , 2.2 , 10+6j , None , (1,2,3) , 'abc' , True , False]\n",
    "print(a)"
   ]
  },
  {
   "cell_type": "code",
   "execution_count": null,
   "metadata": {},
   "outputs": [],
   "source": []
  },
  {
   "cell_type": "code",
   "execution_count": null,
   "metadata": {},
   "outputs": [],
   "source": []
  },
  {
   "cell_type": "code",
   "execution_count": 15,
   "metadata": {},
   "outputs": [
    {
     "data": {
      "text/plain": [
       "[1, 3, 4, 4.9, 6, 8, 56]"
      ]
     },
     "execution_count": 15,
     "metadata": {},
     "output_type": "execute_result"
    }
   ],
   "source": [
    "#sorting\n",
    "l = [4,1,6,8,3,4.9,56]\n",
    "\n",
    "l.sort()\n",
    "l"
   ]
  },
  {
   "cell_type": "code",
   "execution_count": 16,
   "metadata": {},
   "outputs": [],
   "source": [
    "l1 = [4,1,6,8,3,4.9,'56']"
   ]
  },
  {
   "cell_type": "code",
   "execution_count": 17,
   "metadata": {},
   "outputs": [
    {
     "ename": "TypeError",
     "evalue": "'<' not supported between instances of 'str' and 'float'",
     "output_type": "error",
     "traceback": [
      "\u001b[1;31m---------------------------------------------------------------------------\u001b[0m",
      "\u001b[1;31mTypeError\u001b[0m                                 Traceback (most recent call last)",
      "Cell \u001b[1;32mIn[17], line 3\u001b[0m\n\u001b[0;32m      1\u001b[0m \u001b[38;5;66;03m#l = [4,1,6,8,3,4.9,'56']\u001b[39;00m\n\u001b[1;32m----> 3\u001b[0m l1\u001b[38;5;241m.\u001b[39msort()\n\u001b[0;32m      4\u001b[0m l1\n",
      "\u001b[1;31mTypeError\u001b[0m: '<' not supported between instances of 'str' and 'float'"
     ]
    }
   ],
   "source": [
    "#l = [4,1,6,8,3,4.9,'56']\n",
    "\n",
    "l1.sort()\n",
    "l1"
   ]
  },
  {
   "cell_type": "code",
   "execution_count": 18,
   "metadata": {},
   "outputs": [
    {
     "data": {
      "text/plain": [
       "[9, 8, 7, 6, 4, 4, 3, 2]"
      ]
     },
     "execution_count": 18,
     "metadata": {},
     "output_type": "execute_result"
    }
   ],
   "source": [
    "# sorting in descending order\n",
    "\n",
    "l = [6,4,7,8,9,2,3,4]\n",
    "l.sort(reverse = True)\n",
    "l"
   ]
  },
  {
   "cell_type": "code",
   "execution_count": 19,
   "metadata": {},
   "outputs": [
    {
     "data": {
      "text/plain": [
       "[2, 3, 4, 4, 6, 7, 8, 9]"
      ]
     },
     "execution_count": 19,
     "metadata": {},
     "output_type": "execute_result"
    }
   ],
   "source": [
    "l = [6,4,7,8,9,2,3,4]\n",
    "l.sort()\n",
    "l"
   ]
  },
  {
   "cell_type": "code",
   "execution_count": 20,
   "metadata": {},
   "outputs": [
    {
     "name": "stdout",
     "output_type": "stream",
     "text": [
      "[1, 2, 3, 4, 5, 6, 10, 20]\n",
      "[]\n"
     ]
    }
   ],
   "source": [
    "# clear\n",
    "\n",
    "a = [1,2,3,4,5,6,10,20]\n",
    "print(a)\n",
    "\n",
    "a.clear()\n",
    "print(a)"
   ]
  },
  {
   "cell_type": "code",
   "execution_count": 27,
   "metadata": {},
   "outputs": [
    {
     "name": "stdout",
     "output_type": "stream",
     "text": [
      "old a  [10, 20, 30, 40, 10]\n"
     ]
    }
   ],
   "source": [
    "# insert\n",
    "\n",
    "a = [10,20,30,40,10]\n",
    "print(\"old a \",a)\n",
    "\n"
   ]
  },
  {
   "cell_type": "code",
   "execution_count": 28,
   "metadata": {},
   "outputs": [
    {
     "name": "stdout",
     "output_type": "stream",
     "text": [
      "new a  [10, 20, 30, 40, 10, 100]\n"
     ]
    }
   ],
   "source": [
    "a.insert(7,100)\n",
    "print(\"new a \",a)"
   ]
  },
  {
   "cell_type": "code",
   "execution_count": 29,
   "metadata": {},
   "outputs": [
    {
     "name": "stdout",
     "output_type": "stream",
     "text": [
      "old z  [1, 2, 3, 4, 5, 6, 10, 20]\n",
      "new z  [1, 2, 3, 100, 4, 5, 6, 10, 20]\n"
     ]
    }
   ],
   "source": [
    "z = [1,2,3,4,5,6,10,20]\n",
    "print(\"old z \",z)\n",
    "z.insert(3,100)\n",
    "print(\"new z \",z)"
   ]
  },
  {
   "cell_type": "code",
   "execution_count": 30,
   "metadata": {},
   "outputs": [
    {
     "data": {
      "text/plain": [
       "[1, 2, 3, 100, 4, 5, 6, 10, 20]"
      ]
     },
     "execution_count": 30,
     "metadata": {},
     "output_type": "execute_result"
    }
   ],
   "source": [
    "z"
   ]
  },
  {
   "cell_type": "code",
   "execution_count": 31,
   "metadata": {},
   "outputs": [
    {
     "name": "stdout",
     "output_type": "stream",
     "text": [
      "new z  [1, 2, 3, 100, 4, 5, 6, 10, 500, 20]\n"
     ]
    }
   ],
   "source": [
    "z.insert(-1,500)\n",
    "print(\"new z \",z)"
   ]
  },
  {
   "cell_type": "code",
   "execution_count": 82,
   "metadata": {},
   "outputs": [
    {
     "data": {
      "text/plain": [
       "20"
      ]
     },
     "execution_count": 82,
     "metadata": {},
     "output_type": "execute_result"
    }
   ],
   "source": [
    "\n",
    "z[-1]"
   ]
  },
  {
   "cell_type": "code",
   "execution_count": 83,
   "metadata": {},
   "outputs": [
    {
     "data": {
      "text/plain": [
       "1000"
      ]
     },
     "execution_count": 83,
     "metadata": {},
     "output_type": "execute_result"
    }
   ],
   "source": [
    "z[0]"
   ]
  },
  {
   "cell_type": "code",
   "execution_count": 32,
   "metadata": {},
   "outputs": [
    {
     "name": "stdout",
     "output_type": "stream",
     "text": [
      "new z  [1000, 1, 2, 3, 100, 4, 5, 6, 10, 500, 20]\n"
     ]
    }
   ],
   "source": [
    "z.insert(0,1000)\n",
    "print(\"new z \",z)"
   ]
  },
  {
   "cell_type": "code",
   "execution_count": null,
   "metadata": {},
   "outputs": [],
   "source": []
  },
  {
   "cell_type": "code",
   "execution_count": 33,
   "metadata": {},
   "outputs": [
    {
     "data": {
      "text/plain": [
       "[1, 2, 3, 4, 5, 100]"
      ]
     },
     "execution_count": 33,
     "metadata": {},
     "output_type": "execute_result"
    }
   ],
   "source": [
    "a = [1,2,3,4,5]\n",
    "a.append(100)\n",
    "a"
   ]
  },
  {
   "cell_type": "code",
   "execution_count": 34,
   "metadata": {},
   "outputs": [
    {
     "data": {
      "text/plain": [
       "[5, 4, 3, 2, 1]"
      ]
     },
     "execution_count": 34,
     "metadata": {},
     "output_type": "execute_result"
    }
   ],
   "source": [
    "a = [1,2,3,4,5]\n",
    "a.reverse()\n",
    "a"
   ]
  },
  {
   "cell_type": "code",
   "execution_count": 35,
   "metadata": {},
   "outputs": [
    {
     "data": {
      "text/plain": [
       "0"
      ]
     },
     "execution_count": 35,
     "metadata": {},
     "output_type": "execute_result"
    }
   ],
   "source": [
    "# index\n",
    "\"\"\"\n",
    "returns the index of the element\n",
    "\n",
    "\"\"\"\n",
    "\n",
    "l1 = [10,12,30]\n",
    "l1.index(10)"
   ]
  },
  {
   "cell_type": "code",
   "execution_count": 36,
   "metadata": {},
   "outputs": [
    {
     "data": {
      "text/plain": [
       "2"
      ]
     },
     "execution_count": 36,
     "metadata": {},
     "output_type": "execute_result"
    }
   ],
   "source": [
    "l1 = [10,12,30]\n",
    "l1.index(30)"
   ]
  },
  {
   "cell_type": "code",
   "execution_count": 37,
   "metadata": {},
   "outputs": [
    {
     "data": {
      "text/plain": [
       "0"
      ]
     },
     "execution_count": 37,
     "metadata": {},
     "output_type": "execute_result"
    }
   ],
   "source": [
    "l1 = [10,12,30,10,10,30,20]\n",
    "l1.index(10)"
   ]
  },
  {
   "cell_type": "code",
   "execution_count": null,
   "metadata": {},
   "outputs": [],
   "source": []
  },
  {
   "cell_type": "markdown",
   "metadata": {},
   "source": [
    "# tuple"
   ]
  },
  {
   "cell_type": "markdown",
   "metadata": {},
   "source": [
    "# tuple\n",
    "\n",
    "- anything that can be written inside a () and elements are sep by commas"
   ]
  },
  {
   "cell_type": "code",
   "execution_count": 38,
   "metadata": {},
   "outputs": [
    {
     "name": "stdout",
     "output_type": "stream",
     "text": [
      "<class 'tuple'> (1, 2, 3, 4, 5, 6)\n"
     ]
    }
   ],
   "source": [
    "a = (1,2,3,4,5,6)\n",
    "print(type(a) , a)"
   ]
  },
  {
   "cell_type": "code",
   "execution_count": 39,
   "metadata": {},
   "outputs": [
    {
     "name": "stdout",
     "output_type": "stream",
     "text": [
      "('orange', 'apple', 'banana')\n"
     ]
    }
   ],
   "source": [
    "tup1 = ('orange' , 'apple' , 'banana')\n",
    "print(tup1)"
   ]
  },
  {
   "cell_type": "code",
   "execution_count": 40,
   "metadata": {},
   "outputs": [
    {
     "name": "stdin",
     "output_type": "stream",
     "text": [
      "enter the input 2000\n"
     ]
    },
    {
     "name": "stdout",
     "output_type": "stream",
     "text": [
      "2000 <class 'int'>\n"
     ]
    }
   ],
   "source": [
    "#taking user input\n",
    "\n",
    "tup1 = eval(input('enter the input'))\n",
    "print(tup1 , type(tup1))"
   ]
  },
  {
   "cell_type": "code",
   "execution_count": 41,
   "metadata": {},
   "outputs": [
    {
     "name": "stdout",
     "output_type": "stream",
     "text": [
      "(1, 1, 1, 1, 2, 2, 2, 3, 3, 3, 4, 4)\n"
     ]
    }
   ],
   "source": [
    "#allows duplicate ele\n",
    "\n",
    "a = (1,1,1,1,2,2,2,3,3,3,4,4)\n",
    "print(a)"
   ]
  },
  {
   "cell_type": "code",
   "execution_count": 42,
   "metadata": {},
   "outputs": [
    {
     "name": "stdout",
     "output_type": "stream",
     "text": [
      "(1, 1.2, None, [1, 2, 3], 'abc', True)\n"
     ]
    }
   ],
   "source": [
    "#can store any data type\n",
    "\n",
    "a = (1 , 1.2 , None , [1,2,3], 'abc' , True)\n",
    "print(a)"
   ]
  },
  {
   "cell_type": "code",
   "execution_count": 44,
   "metadata": {},
   "outputs": [
    {
     "name": "stdout",
     "output_type": "stream",
     "text": [
      "(1, 1.2, None, (1, 2, 3), [120, 20, 30, 'hello'], 'abc', True)\n"
     ]
    }
   ],
   "source": [
    "#can store any data type\n",
    "\n",
    "a = (1 , 1.2 , None , (1,2,3),[120,20,30,\"hello\"], 'abc' , True)\n",
    "print(a)"
   ]
  },
  {
   "cell_type": "code",
   "execution_count": 47,
   "metadata": {},
   "outputs": [
    {
     "name": "stdout",
     "output_type": "stream",
     "text": [
      "(1, 1.2, None, (1, 2, 3), [120, 20, 30, 'hello'], 'abc', True)\n",
      "1\n",
      "1.2\n",
      "True\n",
      "None\n",
      "(1, 2, 3)\n",
      "abc\n"
     ]
    }
   ],
   "source": [
    "#indexing\n",
    "print(a)\n",
    "print(a[0])\n",
    "print(a[1])\n",
    "print(a[-1])\n",
    "print(a[2])\n",
    "print(a[3])\n",
    "print(a[-2])\n"
   ]
  },
  {
   "cell_type": "code",
   "execution_count": null,
   "metadata": {},
   "outputs": [],
   "source": []
  },
  {
   "cell_type": "markdown",
   "metadata": {},
   "source": [
    "# Dictionary"
   ]
  },
  {
   "cell_type": "code",
   "execution_count": 48,
   "metadata": {},
   "outputs": [
    {
     "name": "stdout",
     "output_type": "stream",
     "text": [
      "{40, 10, 20, 30}\n"
     ]
    },
    {
     "ename": "TypeError",
     "evalue": "'set' object is not subscriptable",
     "output_type": "error",
     "traceback": [
      "\u001b[1;31m---------------------------------------------------------------------------\u001b[0m",
      "\u001b[1;31mTypeError\u001b[0m                                 Traceback (most recent call last)",
      "Cell \u001b[1;32mIn[48], line 9\u001b[0m\n\u001b[0;32m      7\u001b[0m \u001b[38;5;28mprint\u001b[39m(dic_a)\n\u001b[0;32m      8\u001b[0m \u001b[38;5;66;03m#print(dic_a['age'])\u001b[39;00m\n\u001b[1;32m----> 9\u001b[0m \u001b[38;5;28mprint\u001b[39m(dic_a[\u001b[38;5;124m'\u001b[39m\u001b[38;5;124msalary\u001b[39m\u001b[38;5;124m'\u001b[39m])\n",
      "\u001b[1;31mTypeError\u001b[0m: 'set' object is not subscriptable"
     ]
    }
   ],
   "source": [
    "# dic- it represent structure data { }\n",
    "\n",
    "\n",
    "dic_a = {10,20,30,40}\n",
    "\n",
    "\n",
    "print(dic_a)\n",
    "#print(dic_a['age'])\n",
    "print(dic_a['salary'])"
   ]
  },
  {
   "cell_type": "code",
   "execution_count": 49,
   "metadata": {},
   "outputs": [
    {
     "name": "stdout",
     "output_type": "stream",
     "text": [
      "ajay\n",
      "24\n",
      "24000\n"
     ]
    }
   ],
   "source": [
    "# dic- it represent structure data { }\n",
    "\n",
    "\n",
    "dic_a = {'name': 'ajay', 'age':24 , 'salary':24000}\n",
    "\n",
    "\n",
    "print(dic_a['name'])\n",
    "print(dic_a['age'])\n",
    "print(dic_a['salary'])"
   ]
  },
  {
   "cell_type": "code",
   "execution_count": 51,
   "metadata": {},
   "outputs": [
    {
     "data": {
      "text/plain": [
       "{'name': 'ajay', 'age': 24, 'salary': 24000, 'Mob_no': 8800006767}"
      ]
     },
     "execution_count": 51,
     "metadata": {},
     "output_type": "execute_result"
    }
   ],
   "source": [
    "# dic- it represent structure data { }\n",
    "\n",
    "\n",
    "dic_a = {'name': 'ajay', 'age':24 , 'salary':24000,\"Mob_no\":8800006767}\n",
    "\n",
    "\n",
    "dic_a"
   ]
  },
  {
   "cell_type": "code",
   "execution_count": 52,
   "metadata": {},
   "outputs": [
    {
     "data": {
      "text/plain": [
       "'ajay'"
      ]
     },
     "execution_count": 52,
     "metadata": {},
     "output_type": "execute_result"
    }
   ],
   "source": [
    "dic_a[\"name\"]"
   ]
  },
  {
   "cell_type": "code",
   "execution_count": 53,
   "metadata": {},
   "outputs": [
    {
     "name": "stdout",
     "output_type": "stream",
     "text": [
      "ajay\n",
      "24\n",
      "24000\n"
     ]
    }
   ],
   "source": [
    "print(dic_a['name'])\n",
    "print(dic_a['age'])\n",
    "print(dic_a['salary'])\n"
   ]
  },
  {
   "cell_type": "code",
   "execution_count": 82,
   "metadata": {},
   "outputs": [
    {
     "name": "stdout",
     "output_type": "stream",
     "text": [
      "ajay\n",
      "24\n",
      "50000\n"
     ]
    }
   ],
   "source": [
    "dic_a = {'age':24 , 'name': 'ajay' , 'salary':50000}\n",
    "\n",
    "\n",
    "print(dic_a['name'])\n",
    "print(dic_a['age'])\n",
    "print(dic_a['salary'])"
   ]
  },
  {
   "cell_type": "code",
   "execution_count": 83,
   "metadata": {},
   "outputs": [],
   "source": [
    "# 1. it is a collection of key value pair\n",
    "# 2.  key,value pair is called item\n",
    "# 3. items are sep by ,\n",
    "# 4. key and value are sep by :\n",
    "# 5. all the items are into {}\n",
    "\n",
    "a = {'name':'ajay' , 'age':24}"
   ]
  },
  {
   "cell_type": "code",
   "execution_count": 54,
   "metadata": {},
   "outputs": [
    {
     "name": "stdout",
     "output_type": "stream",
     "text": [
      "{'age': 35, 'name': 'ajay'}\n"
     ]
    }
   ],
   "source": [
    "#key cannot be duplicated whereas value can be duplicated\n",
    "\n",
    "\n",
    "# key cannot be duplicated\n",
    "a = {'age':100 ,  'name':'ajay' , 'age':40 , 'age':35}\n",
    "print(a)\n",
    "\n"
   ]
  },
  {
   "cell_type": "code",
   "execution_count": 57,
   "metadata": {},
   "outputs": [
    {
     "name": "stdout",
     "output_type": "stream",
     "text": [
      "{'age': 75, 'name': 'ajay', 'salary': 50000}\n"
     ]
    }
   ],
   "source": [
    "# key cannot be duplicated\n",
    "a = {'age':20 ,  'name':'ajay' , 'age':45 , 'age':75,\"salary\":50000}\n",
    "print(a)"
   ]
  },
  {
   "cell_type": "code",
   "execution_count": 58,
   "metadata": {},
   "outputs": [
    {
     "name": "stdout",
     "output_type": "stream",
     "text": [
      "{'name': 'ajay', 'age': 24, 'roll no': 24}\n"
     ]
    }
   ],
   "source": [
    "# value can be duplicated\n",
    "a = {'name':'ajay' , 'age':24 , 'roll no':24}\n",
    "print(a)"
   ]
  },
  {
   "cell_type": "code",
   "execution_count": 59,
   "metadata": {},
   "outputs": [
    {
     "data": {
      "text/plain": [
       "{'name': 'ajay', 'lastname': 'singh'}"
      ]
     },
     "execution_count": 59,
     "metadata": {},
     "output_type": "execute_result"
    }
   ],
   "source": [
    "# dic is not a seq data type\n",
    "\n",
    "dic_a = {'name':'ajay' , 'lastname':'singh'}\n",
    "dic_a\n"
   ]
  },
  {
   "cell_type": "code",
   "execution_count": 60,
   "metadata": {},
   "outputs": [
    {
     "ename": "KeyError",
     "evalue": "0",
     "output_type": "error",
     "traceback": [
      "\u001b[1;31m---------------------------------------------------------------------------\u001b[0m",
      "\u001b[1;31mKeyError\u001b[0m                                  Traceback (most recent call last)",
      "Cell \u001b[1;32mIn[60], line 1\u001b[0m\n\u001b[1;32m----> 1\u001b[0m dic_a[\u001b[38;5;241m0\u001b[39m]\n",
      "\u001b[1;31mKeyError\u001b[0m: 0"
     ]
    }
   ],
   "source": [
    "dic_a[0]"
   ]
  },
  {
   "cell_type": "code",
   "execution_count": 61,
   "metadata": {},
   "outputs": [
    {
     "name": "stdout",
     "output_type": "stream",
     "text": [
      "True\n",
      "False\n"
     ]
    }
   ],
   "source": [
    "#membership op - only on keys\n",
    "\n",
    "dic_a = {'name':'Ajay' , 'lastname':'singh'}\n",
    "\n",
    "print('name' in dic_a)\n",
    "print('age' in dic_a)"
   ]
  },
  {
   "cell_type": "code",
   "execution_count": 62,
   "metadata": {},
   "outputs": [
    {
     "name": "stdout",
     "output_type": "stream",
     "text": [
      "{'name': 'ajay', 'age': 24, 'roll no': 24}\n",
      "True\n",
      "True\n",
      "False\n"
     ]
    }
   ],
   "source": [
    "a = {'name':'ajay' , 'age':24 , 'roll no':24}\n",
    "print(a)\n",
    "print('name' in a)\n",
    "print('age' in a)\n",
    "print(\"mob_no\" in a)"
   ]
  },
  {
   "cell_type": "code",
   "execution_count": 63,
   "metadata": {},
   "outputs": [
    {
     "name": "stdout",
     "output_type": "stream",
     "text": [
      "{'name': 'rahul', 'lastname': 'singh'}\n"
     ]
    }
   ],
   "source": [
    " #it is mutable\n",
    "\n",
    "dic_a = {'name':'Ajay' , 'lastname':'singh'}\n",
    "\n",
    "dic_a['name'] = \"rahul\"\n",
    "\n",
    "print(dic_a)"
   ]
  },
  {
   "cell_type": "code",
   "execution_count": null,
   "metadata": {},
   "outputs": [],
   "source": []
  },
  {
   "cell_type": "markdown",
   "metadata": {},
   "source": [
    "# Python List Slicing"
   ]
  },
  {
   "cell_type": "code",
   "execution_count": null,
   "metadata": {},
   "outputs": [],
   "source": [
    "Python List Slicing Syntax"
   ]
  },
  {
   "cell_type": "code",
   "execution_count": null,
   "metadata": {},
   "outputs": [],
   "source": [
    "df[ Initial : End : IndexJump ]"
   ]
  },
  {
   "cell_type": "code",
   "execution_count": null,
   "metadata": {},
   "outputs": [],
   "source": [
    "If df is a list, then the above expression returns the portion of the list from index Initial to index End, \n",
    "at a step size IndexJump."
   ]
  },
  {
   "cell_type": "code",
   "execution_count": null,
   "metadata": {},
   "outputs": [],
   "source": [
    "Positive Indexes"
   ]
  },
  {
   "cell_type": "code",
   "execution_count": null,
   "metadata": {},
   "outputs": [],
   "source": [
    "In the case of Positive Indexing, the first element of the list has the index number 0, and the \n",
    "last element of the list has the index number N-1, where N is the total number of elements in the list (size of the list)."
   ]
  },
  {
   "cell_type": "code",
   "execution_count": 65,
   "metadata": {},
   "outputs": [
    {
     "name": "stdout",
     "output_type": "stream",
     "text": [
      "[50, 70, 30, 20, 90, 10, 50]\n"
     ]
    }
   ],
   "source": [
    "# Initialize list\n",
    "Lst = [50, 70, 30, 20, 90, 10, 50]\n",
    " \n",
    "# Display list\n",
    "print(Lst[::])"
   ]
  },
  {
   "cell_type": "code",
   "execution_count": 67,
   "metadata": {},
   "outputs": [
    {
     "name": "stdout",
     "output_type": "stream",
     "text": [
      "[70, 50]\n"
     ]
    }
   ],
   "source": [
    "print(Lst[1::5])"
   ]
  },
  {
   "cell_type": "code",
   "execution_count": null,
   "metadata": {},
   "outputs": [],
   "source": [
    "Negative Indexes"
   ]
  },
  {
   "cell_type": "code",
   "execution_count": null,
   "metadata": {},
   "outputs": [],
   "source": [
    "negative indexes. Index -1 represents the last element and -N represents the first element of the list, \n",
    "where N is the length of the list."
   ]
  },
  {
   "cell_type": "code",
   "execution_count": 151,
   "metadata": {},
   "outputs": [
    {
     "name": "stdout",
     "output_type": "stream",
     "text": [
      "[50, 70, 30, 20, 90, 10, 50]\n"
     ]
    }
   ],
   "source": [
    "# Initialize list\n",
    "Lst = [50, 70, 30, 20, 90, 10, 50]\n",
    " \n",
    "# Display list\n",
    "print(Lst[-7::1])"
   ]
  },
  {
   "cell_type": "code",
   "execution_count": 76,
   "metadata": {},
   "outputs": [
    {
     "name": "stdout",
     "output_type": "stream",
     "text": [
      "[70, 20, 10]\n"
     ]
    }
   ],
   "source": [
    "# Initialize list\n",
    "Lst = [50, 70, 30, 20, 90, 10, 50]\n",
    " \n",
    "# Display list\n",
    "print(Lst[-6::2])"
   ]
  },
  {
   "cell_type": "code",
   "execution_count": 75,
   "metadata": {},
   "outputs": [
    {
     "name": "stdout",
     "output_type": "stream",
     "text": [
      "[50, 20, 50]\n"
     ]
    }
   ],
   "source": [
    "# Initialize list\n",
    "Lst = [50, 70, 30, 20, 90, 10, 50]\n",
    " \n",
    "# Display list\n",
    "print(Lst[-7::3])"
   ]
  },
  {
   "cell_type": "code",
   "execution_count": 77,
   "metadata": {},
   "outputs": [
    {
     "name": "stdout",
     "output_type": "stream",
     "text": [
      "[30, 10]\n"
     ]
    }
   ],
   "source": [
    "# Initialize list\n",
    "Lst = [50, 70, 30, 20, 90, 10, 50]\n",
    " \n",
    "# Display list\n",
    "print(Lst[2::3])"
   ]
  },
  {
   "cell_type": "code",
   "execution_count": 72,
   "metadata": {},
   "outputs": [
    {
     "name": "stdout",
     "output_type": "stream",
     "text": [
      "[70, 90]\n"
     ]
    }
   ],
   "source": [
    "# Initialize list\n",
    "Lst = [50, 70, 30, 20, 90, 10, 50]\n",
    " \n",
    "# Display list\n",
    "print(Lst[1::3])"
   ]
  },
  {
   "cell_type": "code",
   "execution_count": null,
   "metadata": {},
   "outputs": [],
   "source": []
  },
  {
   "cell_type": "code",
   "execution_count": 78,
   "metadata": {},
   "outputs": [
    {
     "name": "stdout",
     "output_type": "stream",
     "text": [
      "[20, 90]\n"
     ]
    }
   ],
   "source": [
    "# Initialize list\n",
    "Lst = [50, 70, 30, 20, 90, 10, 50]\n",
    " \n",
    "# Display list\n",
    "print(Lst[3:5])"
   ]
  },
  {
   "cell_type": "code",
   "execution_count": null,
   "metadata": {},
   "outputs": [],
   "source": [
    "# Initialize list\n",
    "Lst = [50, 70, 30, 20, 90, 10, 50]\n",
    " \n",
    "# Display list\n",
    "print(Lst[0:5:3])"
   ]
  },
  {
   "cell_type": "code",
   "execution_count": null,
   "metadata": {},
   "outputs": [],
   "source": [
    "Example 1: Leaving any argument like Initial, End, or IndexJump blank will lead to the use of default values i.e. 0 as Initial, \n",
    "    length of the list as End, and 1 as IndexJump."
   ]
  },
  {
   "cell_type": "code",
   "execution_count": 153,
   "metadata": {},
   "outputs": [
    {
     "name": "stdout",
     "output_type": "stream",
     "text": [
      "Original List:\n",
      " [1, 2, 3, 4, 5, 6, 7, 8, 9]\n",
      "\n",
      "Sliced Lists: \n",
      "[4, 6, 8]\n",
      "[1, 3, 5, 7, 9]\n",
      "[1, 2, 3, 4, 5, 6, 7, 8, 9]\n"
     ]
    }
   ],
   "source": [
    "# Initialize list\n",
    "List = [1, 2, 3, 4, 5, 6, 7, 8, 9]\n",
    " \n",
    "# Show original list\n",
    "print(\"Original List:\\n\", List)\n",
    " \n",
    "print(\"\\nSliced Lists: \")\n",
    " \n",
    "# Display sliced list\n",
    "print(List[3:9:2])\n",
    " \n",
    "# Display sliced list\n",
    "print(List[::2])\n",
    " \n",
    "# Display sliced list\n",
    "print(List[::])"
   ]
  },
  {
   "cell_type": "code",
   "execution_count": null,
   "metadata": {},
   "outputs": [],
   "source": [
    "Example 2: A reversed list can be generated by using a negative integer as the IndexJump argument. \n",
    "    Leaving the Initial and End as blank. We need to choose the Initial and End values according to \n",
    "    a reversed list if the IndexJump value is negative. "
   ]
  },
  {
   "cell_type": "code",
   "execution_count": 155,
   "metadata": {},
   "outputs": [
    {
     "name": "stdout",
     "output_type": "stream",
     "text": [
      "Original List:\n",
      " ['hello', 4, 'world !']\n",
      "\n",
      "Sliced Lists: \n",
      "['world !', 4, 'hello']\n",
      "['world !']\n",
      "['world !']\n"
     ]
    }
   ],
   "source": [
    "# Initialize list\n",
    "List = ['hello', 4, 'world !']\n",
    " \n",
    "# Show original list\n",
    "print(\"Original List:\\n\", List)\n",
    " \n",
    "print(\"\\nSliced Lists: \")\n",
    " \n",
    "# Display sliced list\n",
    "print(List[::-1])\n",
    " \n",
    "# Display sliced list\n",
    "print(List[::-3])\n",
    " \n",
    "# Display sliced list\n",
    "print(List[:1:-2])"
   ]
  },
  {
   "cell_type": "markdown",
   "metadata": {},
   "source": [
    "Example 3: By concatenating sliced lists, a new list can be created or even a pre-existing list can be modified. "
   ]
  },
  {
   "cell_type": "code",
   "execution_count": 156,
   "metadata": {},
   "outputs": [
    {
     "name": "stdout",
     "output_type": "stream",
     "text": [
      "Original List:\n",
      " [1, 2, 3, 4, 5, 6, 7, 8, 9]\n",
      "\n",
      "Sliced Lists: \n",
      "new list 1  : [1, 2, 3]\n",
      "new list 2  : [8, 9]\n",
      "new list 3  : [1, 2, 3, 8, 9]\n",
      "List 4 : [1, 3, 5, 7, 9]\n",
      "List 5 : [2, 4, 6, 8]\n",
      "List 6 : [1, 3, 5, 7, 9, 2, 4, 6, 8]\n"
     ]
    }
   ],
   "source": [
    "# Initialize list\n",
    "List = [1, 2, 3, 4, 5, 6, 7, 8, 9]\n",
    " \n",
    "# Show original list\n",
    "print(\"Original List:\\n\", List)\n",
    " \n",
    "print(\"\\nSliced Lists: \")\n",
    " \n",
    "# Creating new List\n",
    "newList1 = List[:3]\n",
    "newList2 = List[7:] \n",
    "\n",
    "newList3 = List[:3]+List[7:] \n",
    "\n",
    "\n",
    "# Display sliced list\n",
    "print(\"new list 1  :\", newList1)\n",
    "print(\"new list 2  :\", newList2)\n",
    "print(\"new list 3  :\", newList3) \n",
    "\n",
    "# Changing existing List\n",
    "List4 = List[::2]\n",
    "List5 = List[1::2]\n",
    "List6 = List[::2]+List[1::2]\n",
    "# Display sliced list\n",
    "print(\"List 4 :\",List4)\n",
    "print(\"List 5 :\",List5)\n",
    "print(\"List 6 :\",List6)"
   ]
  },
  {
   "cell_type": "markdown",
   "metadata": {},
   "source": [
    "# Summary of slicing:-"
   ]
  },
  {
   "cell_type": "code",
   "execution_count": null,
   "metadata": {},
   "outputs": [],
   "source": [
    "a[start:stop]  # items start through stop-1\n",
    "a[start:]      # items start through the rest of the array\n",
    "a[:stop]       # items from the beginning through stop-1\n",
    "a[:]           # a copy of the whole array"
   ]
  },
  {
   "cell_type": "code",
   "execution_count": null,
   "metadata": {},
   "outputs": [],
   "source": [
    "There is also the step value, which can be used with any of the above:\n",
    "\n",
    "a[start:stop:step] # start through not past stop, by step"
   ]
  },
  {
   "cell_type": "markdown",
   "metadata": {},
   "source": [
    "The key point to remember is that the :stop value represents the first value that is not in the selected slice. \n",
    "    So, the difference between stop and start is the number of elements selected (if step is 1, the default)."
   ]
  },
  {
   "cell_type": "code",
   "execution_count": null,
   "metadata": {},
   "outputs": [],
   "source": [
    "The other feature is that start or stop may be a negative number, which means it counts from the end of\n",
    "the array instead of the beginning. So:"
   ]
  },
  {
   "cell_type": "code",
   "execution_count": null,
   "metadata": {},
   "outputs": [],
   "source": [
    "a[-1]    # last item in the array\n",
    "a[-2:]   # last two items in the array\n",
    "a[:-2]   # everything except the last two items"
   ]
  },
  {
   "cell_type": "code",
   "execution_count": 157,
   "metadata": {},
   "outputs": [],
   "source": [
    "a=[1,2,3,4,5,6,7,8,9]"
   ]
  },
  {
   "cell_type": "code",
   "execution_count": 158,
   "metadata": {},
   "outputs": [
    {
     "name": "stdout",
     "output_type": "stream",
     "text": [
      "9\n"
     ]
    }
   ],
   "source": [
    "a[-1]    # last item in the array\n",
    "print(a[-1])\n"
   ]
  },
  {
   "cell_type": "code",
   "execution_count": 159,
   "metadata": {},
   "outputs": [
    {
     "name": "stdout",
     "output_type": "stream",
     "text": [
      "[8, 9]\n"
     ]
    }
   ],
   "source": [
    "a[-2:]   # last two items in the array\n",
    "print(a[-2:])"
   ]
  },
  {
   "cell_type": "code",
   "execution_count": 160,
   "metadata": {},
   "outputs": [
    {
     "name": "stdout",
     "output_type": "stream",
     "text": [
      "[1, 2, 3, 4, 5, 6, 7, 8]\n"
     ]
    }
   ],
   "source": [
    "a[:-1]# everything except the last one item\n",
    "print(a[:-1])"
   ]
  },
  {
   "cell_type": "code",
   "execution_count": 161,
   "metadata": {},
   "outputs": [
    {
     "name": "stdout",
     "output_type": "stream",
     "text": [
      "[1, 2, 3, 4, 5, 6, 7]\n"
     ]
    }
   ],
   "source": [
    "a[:-2]   # everything except the last two items\n",
    "print(a[:-2])"
   ]
  },
  {
   "cell_type": "code",
   "execution_count": null,
   "metadata": {},
   "outputs": [],
   "source": []
  },
  {
   "cell_type": "code",
   "execution_count": null,
   "metadata": {},
   "outputs": [],
   "source": []
  },
  {
   "cell_type": "code",
   "execution_count": null,
   "metadata": {},
   "outputs": [],
   "source": [
    "Similarly, step may be a negative number:"
   ]
  },
  {
   "cell_type": "code",
   "execution_count": null,
   "metadata": {},
   "outputs": [],
   "source": [
    "a[::-1]    # all items in the array, reversed\n",
    "a[1::-1]   # the first two items, reversed\n",
    "a[:-3:-1]  # the last two items, reversed\n",
    "a[-3::-1]  # everything except the last two items, reversed"
   ]
  },
  {
   "cell_type": "code",
   "execution_count": 162,
   "metadata": {},
   "outputs": [
    {
     "name": "stdout",
     "output_type": "stream",
     "text": [
      "[9, 8, 7, 6, 5, 4, 3, 2, 1]\n"
     ]
    }
   ],
   "source": [
    "a[::-1]    # all items in the array, reversed\n",
    "print(a[::-1])"
   ]
  },
  {
   "cell_type": "code",
   "execution_count": 163,
   "metadata": {},
   "outputs": [
    {
     "name": "stdout",
     "output_type": "stream",
     "text": [
      "[2, 1]\n"
     ]
    }
   ],
   "source": [
    "a[1::-1]   # the first two items, reversed\n",
    "print(a[1::-1])"
   ]
  },
  {
   "cell_type": "code",
   "execution_count": 164,
   "metadata": {},
   "outputs": [
    {
     "name": "stdout",
     "output_type": "stream",
     "text": [
      "[9, 8]\n"
     ]
    }
   ],
   "source": [
    "a[:-3:-1]  # the last two items, reversed\n",
    "print(a[:-3:-1])"
   ]
  },
  {
   "cell_type": "code",
   "execution_count": 165,
   "metadata": {},
   "outputs": [
    {
     "name": "stdout",
     "output_type": "stream",
     "text": [
      "[7, 6, 5, 4, 3, 2, 1]\n"
     ]
    }
   ],
   "source": [
    "a[-3::-1]  # everything except the last two items, reversed\n",
    "print(a[-3::-1])"
   ]
  },
  {
   "cell_type": "code",
   "execution_count": null,
   "metadata": {},
   "outputs": [],
   "source": []
  },
  {
   "cell_type": "code",
   "execution_count": null,
   "metadata": {},
   "outputs": [],
   "source": [
    "nested list"
   ]
  },
  {
   "cell_type": "code",
   "execution_count": null,
   "metadata": {},
   "outputs": [],
   "source": [
    "#list inside a list is called as nested list"
   ]
  },
  {
   "cell_type": "code",
   "execution_count": 1,
   "metadata": {},
   "outputs": [
    {
     "data": {
      "text/plain": [
       "11"
      ]
     },
     "execution_count": 1,
     "metadata": {},
     "output_type": "execute_result"
    }
   ],
   "source": [
    "a = [1,2,3,[10,11,12]]\n",
    "\n",
    "a[3][1]"
   ]
  },
  {
   "cell_type": "code",
   "execution_count": 2,
   "metadata": {},
   "outputs": [
    {
     "data": {
      "text/plain": [
       "10"
      ]
     },
     "execution_count": 2,
     "metadata": {},
     "output_type": "execute_result"
    }
   ],
   "source": [
    "[10, 11, 12][0]"
   ]
  },
  {
   "cell_type": "code",
   "execution_count": 3,
   "metadata": {},
   "outputs": [
    {
     "data": {
      "text/plain": [
       "'MITHIL'"
      ]
     },
     "execution_count": 3,
     "metadata": {},
     "output_type": "execute_result"
    }
   ],
   "source": [
    "b = [[1,2,3,4] , ['GBU' , 'MITHIL' , 'hello'] , [None , True , False]]\n",
    "\n",
    "b[-2][-2]"
   ]
  },
  {
   "cell_type": "code",
   "execution_count": 4,
   "metadata": {},
   "outputs": [
    {
     "data": {
      "text/plain": [
       "'a'"
      ]
     },
     "execution_count": 4,
     "metadata": {},
     "output_type": "execute_result"
    }
   ],
   "source": [
    "c = [[1,2,4] , [5,6,7] , [8,[9,10, ['a' , 'b']]]]\n",
    "\n",
    "# extract a for me\n",
    "c[2][1][-1][0]"
   ]
  },
  {
   "cell_type": "code",
   "execution_count": 8,
   "metadata": {},
   "outputs": [
    {
     "data": {
      "text/plain": [
       "'messi'"
      ]
     },
     "execution_count": 8,
     "metadata": {},
     "output_type": "execute_result"
    }
   ],
   "source": [
    "c = [[1,2,4] , [5,6,'Mithil' , ['messi' , 'ronaldo' , ['messiandronaldo']]] , [8,[9,10, ['a' , 'b']]]]\n",
    "\n",
    "\n",
    "# 1 - extract messi from messiandronaldo\n",
    "c[1][-1][-1][0][:5]\n",
    "\n"
   ]
  },
  {
   "cell_type": "code",
   "execution_count": 9,
   "metadata": {},
   "outputs": [
    {
     "data": {
      "text/plain": [
       "'lihtiM'"
      ]
     },
     "execution_count": 9,
     "metadata": {},
     "output_type": "execute_result"
    }
   ],
   "source": [
    "# 2 - revser the string 'Mithil'\n",
    "c[1][2][::-1]"
   ]
  },
  {
   "cell_type": "code",
   "execution_count": 11,
   "metadata": {},
   "outputs": [],
   "source": [
    "#reversing the string\n",
    "x=\"Noida\""
   ]
  },
  {
   "cell_type": "code",
   "execution_count": 12,
   "metadata": {},
   "outputs": [
    {
     "data": {
      "text/plain": [
       "'adioN'"
      ]
     },
     "execution_count": 12,
     "metadata": {},
     "output_type": "execute_result"
    }
   ],
   "source": [
    "x[::-1]"
   ]
  },
  {
   "cell_type": "code",
   "execution_count": null,
   "metadata": {},
   "outputs": [],
   "source": [
    "# Methods to insert element into list\n",
    "\n",
    "1. append\n",
    "2. extend\n",
    "3. insert"
   ]
  },
  {
   "cell_type": "code",
   "execution_count": 15,
   "metadata": {},
   "outputs": [],
   "source": [
    "# append\n",
    "\"\"\"\n",
    "appends an element to the end of the list\n",
    "you can only enter one element at a time\n",
    "\"\"\"\n",
    "a = [1,2,3]\n",
    "a.append([1,2,3])"
   ]
  },
  {
   "cell_type": "code",
   "execution_count": 16,
   "metadata": {},
   "outputs": [
    {
     "name": "stdout",
     "output_type": "stream",
     "text": [
      "[1, 2, 3, [1, 2, 3]]\n"
     ]
    }
   ],
   "source": [
    "print(a)"
   ]
  },
  {
   "cell_type": "code",
   "execution_count": 17,
   "metadata": {},
   "outputs": [],
   "source": [
    "# 2. extend\n",
    "\"\"\"\n",
    "extent is similar to concatinatio but the object is getting changed in extend\n",
    "\n",
    " - merges two list\n",
    "\"\"\"\n",
    "a = [1,2,3,4]\n",
    "b = [10,11,12,13]\n",
    "\n",
    "a.extend(b)"
   ]
  },
  {
   "cell_type": "code",
   "execution_count": 18,
   "metadata": {},
   "outputs": [
    {
     "name": "stdout",
     "output_type": "stream",
     "text": [
      "[1, 2, 3, 4, 10, 11, 12, 13]\n"
     ]
    }
   ],
   "source": [
    "print(a)"
   ]
  },
  {
   "cell_type": "code",
   "execution_count": 19,
   "metadata": {},
   "outputs": [
    {
     "data": {
      "text/plain": [
       "[1, 2, 3, 4, 10, 11, 12, 13]"
      ]
     },
     "execution_count": 19,
     "metadata": {},
     "output_type": "execute_result"
    }
   ],
   "source": [
    "a = [1,2,3,4]\n",
    "b = [10,11,12,13]\n",
    "\n",
    "a+b"
   ]
  },
  {
   "cell_type": "code",
   "execution_count": 20,
   "metadata": {},
   "outputs": [
    {
     "data": {
      "text/plain": [
       "[1, 2, 3, 4]"
      ]
     },
     "execution_count": 20,
     "metadata": {},
     "output_type": "execute_result"
    }
   ],
   "source": [
    "a"
   ]
  },
  {
   "cell_type": "code",
   "execution_count": 21,
   "metadata": {},
   "outputs": [
    {
     "data": {
      "text/plain": [
       "[10, 11, 12, 13]"
      ]
     },
     "execution_count": 21,
     "metadata": {},
     "output_type": "execute_result"
    }
   ],
   "source": [
    "b"
   ]
  },
  {
   "cell_type": "code",
   "execution_count": 22,
   "metadata": {},
   "outputs": [],
   "source": [
    "a = [1,2,3,4]\n",
    "b = [10,11,12,13]\n",
    "\n",
    "a.append(b)"
   ]
  },
  {
   "cell_type": "code",
   "execution_count": 23,
   "metadata": {},
   "outputs": [
    {
     "data": {
      "text/plain": [
       "[1, 2, 3, 4, [10, 11, 12, 13]]"
      ]
     },
     "execution_count": 23,
     "metadata": {},
     "output_type": "execute_result"
    }
   ],
   "source": [
    "a"
   ]
  },
  {
   "cell_type": "code",
   "execution_count": 24,
   "metadata": {},
   "outputs": [
    {
     "name": "stdout",
     "output_type": "stream",
     "text": [
      "[6, 1, 2, 3]\n"
     ]
    }
   ],
   "source": [
    "# 3 insert\n",
    "\n",
    "\"\"\"\n",
    "insert method insert the value at a particular index\n",
    "\n",
    "syntax - list.insert(index , element to be inserted)\n",
    "\n",
    "only one element at a time\n",
    "\n",
    "\"\"\"\n",
    "\n",
    "l1 = [1,2,3]\n",
    "\n",
    "l1.insert(0,6)\n",
    "\n",
    "print(l1)"
   ]
  },
  {
   "cell_type": "code",
   "execution_count": null,
   "metadata": {},
   "outputs": [],
   "source": [
    "# removing the elements from the list\n",
    "\n",
    "1. pop\n",
    "2. remove"
   ]
  },
  {
   "cell_type": "code",
   "execution_count": 25,
   "metadata": {},
   "outputs": [
    {
     "name": "stdout",
     "output_type": "stream",
     "text": [
      "5\n",
      "1\n",
      "[2, 3, 4, 5]\n"
     ]
    }
   ],
   "source": [
    "# 1) #pop\n",
    "\"\"\"\n",
    "removes the ele by index\n",
    "\n",
    "pop() deafult removes the last element\n",
    "\n",
    "\n",
    "it is the only method that returns a value\n",
    "\n",
    "syntax = l1.pop(index)\n",
    "\n",
    "\"\"\"\n",
    "\n",
    "l1 = [1,2,3,4,5]\n",
    "print(l1.pop())\n",
    "\n",
    "l1 = [1,2,3,4,5]\n",
    "print(l1.pop(0))\n",
    "print(l1)"
   ]
  },
  {
   "cell_type": "code",
   "execution_count": 26,
   "metadata": {},
   "outputs": [
    {
     "data": {
      "text/plain": [
       "[1, 2, 3, 4]"
      ]
     },
     "execution_count": 26,
     "metadata": {},
     "output_type": "execute_result"
    }
   ],
   "source": [
    "# remove\n",
    "\"\"\"\n",
    "removes the specified value from a list\n",
    "\n",
    "only removes the first occurance\n",
    "\"\"\"\n",
    "a= [1,2,3,4,5]\n",
    "a.remove(5)\n",
    "a"
   ]
  },
  {
   "cell_type": "code",
   "execution_count": 27,
   "metadata": {},
   "outputs": [
    {
     "data": {
      "text/plain": [
       "[1, 1, 2, 2, 3, 4, 5, 6]"
      ]
     },
     "execution_count": 27,
     "metadata": {},
     "output_type": "execute_result"
    }
   ],
   "source": [
    "a= [1,1,1,2,2,3,4,5,6]\n",
    "a.remove(1)\n",
    "a"
   ]
  },
  {
   "cell_type": "code",
   "execution_count": 29,
   "metadata": {},
   "outputs": [
    {
     "data": {
      "text/plain": [
       "1"
      ]
     },
     "execution_count": 29,
     "metadata": {},
     "output_type": "execute_result"
    }
   ],
   "source": [
    "# count - count and returns the occurance of a value\n",
    "\n",
    "a = [1,1,1,2,2,3,3,4,4,5,6]\n",
    "a.count(5)"
   ]
  },
  {
   "cell_type": "code",
   "execution_count": 30,
   "metadata": {},
   "outputs": [
    {
     "data": {
      "text/plain": [
       "3"
      ]
     },
     "execution_count": 30,
     "metadata": {},
     "output_type": "execute_result"
    }
   ],
   "source": [
    "a.count(1)"
   ]
  },
  {
   "cell_type": "code",
   "execution_count": null,
   "metadata": {},
   "outputs": [],
   "source": [
    "# more about Dictionary"
   ]
  },
  {
   "cell_type": "code",
   "execution_count": 31,
   "metadata": {},
   "outputs": [
    {
     "name": "stdout",
     "output_type": "stream",
     "text": [
      "Mithil\n",
      "24\n",
      "70000\n"
     ]
    }
   ],
   "source": [
    "a = ['Mithil' , 24 , 70000]\n",
    "\n",
    "#name\n",
    "print(a[0])\n",
    "print(a[1])\n",
    "print(a[2])"
   ]
  },
  {
   "cell_type": "code",
   "execution_count": 32,
   "metadata": {},
   "outputs": [
    {
     "name": "stdout",
     "output_type": "stream",
     "text": [
      "Mithil\n",
      "24\n",
      "70000\n"
     ]
    }
   ],
   "source": [
    "# dic- it represent structure data\n",
    "\n",
    "a = ['Mithil' , 24 , 70000]\n",
    "dic_a = {'name': 'Mithil', 'age':24 , 'salary':70000}\n",
    "\n",
    "# solving problem 1\n",
    "print(dic_a['name'])\n",
    "print(dic_a['age'])\n",
    "print(dic_a['salary'])"
   ]
  },
  {
   "cell_type": "code",
   "execution_count": 33,
   "metadata": {},
   "outputs": [
    {
     "name": "stdout",
     "output_type": "stream",
     "text": [
      "Mithil\n",
      "24\n",
      "70000\n"
     ]
    }
   ],
   "source": [
    "dic_a = {'age':24 , 'name': 'Mithil' , 'salary':70000}\n",
    "\n",
    "# solving problem 1\n",
    "print(dic_a['name'])\n",
    "print(dic_a['age'])\n",
    "print(dic_a['salary'])"
   ]
  },
  {
   "cell_type": "code",
   "execution_count": null,
   "metadata": {},
   "outputs": [],
   "source": [
    "# Properties of dict\n",
    "\n",
    "1. it is a collection of key value pair\n",
    "2.  key,value pair is called item\n",
    "3. items are sep by ,\n",
    "4. key and value are sep by :\n",
    "5. key cannot be duplicated whereas value can be duplicated\n",
    "6. key is always immutable data type\n",
    "7. value can be any data type( mutable , immutable)\n",
    "8. all the items are into {}\n",
    "9. dict is not a seq data type - no slicing , no indexing , no condcatination , no repition\n",
    "10. membership is applicable only on keys\n",
    "11. identity op os possible\n",
    "12. dic is mutable"
   ]
  },
  {
   "cell_type": "code",
   "execution_count": 35,
   "metadata": {},
   "outputs": [
    {
     "name": "stdout",
     "output_type": "stream",
     "text": [
      "{'name': 'Mithil', 'age': 24}\n"
     ]
    }
   ],
   "source": [
    "# 1. it is a collection of key value pair\n",
    "# 2.  key,value pair is called item\n",
    "# 3. items are sep by ,\n",
    "# 4. key and value are sep by :\n",
    "# 8. all the items are into {}\n",
    "\n",
    "a = {'name':'Mithil' , 'age':24}\n",
    "print(a)"
   ]
  },
  {
   "cell_type": "code",
   "execution_count": 37,
   "metadata": {},
   "outputs": [
    {
     "name": "stdout",
     "output_type": "stream",
     "text": [
      "{'age': 35, 'name': 'Mithil'}\n",
      "{'name': 'Mithil', 'age': 24, 'salary': 70000}\n"
     ]
    }
   ],
   "source": [
    "# 5. key cannot be duplicated whereas value can be duplicated\n",
    "\n",
    "\n",
    "# key cannot be duplicated\n",
    "a = {'age':100 ,  'name':'Mithil' , 'age':40 , 'age':35}\n",
    "print(a)\n",
    "\n",
    "# value can be duplicated\n",
    "a = {'name':'Mithil' , 'age':24 , 'salary':70000}\n",
    "print(a)"
   ]
  },
  {
   "cell_type": "code",
   "execution_count": 38,
   "metadata": {},
   "outputs": [
    {
     "ename": "TypeError",
     "evalue": "unhashable type: 'list'",
     "output_type": "error",
     "traceback": [
      "\u001b[1;31m---------------------------------------------------------------------------\u001b[0m",
      "\u001b[1;31mTypeError\u001b[0m                                 Traceback (most recent call last)",
      "Cell \u001b[1;32mIn[38], line 12\u001b[0m\n\u001b[0;32m      1\u001b[0m \u001b[38;5;66;03m# 6. key is always immutable data type\u001b[39;00m\n\u001b[0;32m      2\u001b[0m \n\u001b[0;32m      3\u001b[0m \u001b[38;5;66;03m# imuatble\u001b[39;00m\n\u001b[1;32m   (...)\u001b[0m\n\u001b[0;32m      9\u001b[0m \u001b[38;5;66;03m# - False\u001b[39;00m\n\u001b[0;32m     10\u001b[0m \u001b[38;5;66;03m# - complex\u001b[39;00m\n\u001b[1;32m---> 12\u001b[0m a \u001b[38;5;241m=\u001b[39m {[\u001b[38;5;241m1\u001b[39m,\u001b[38;5;241m2\u001b[39m,\u001b[38;5;241m3\u001b[39m]:\u001b[38;5;124m'\u001b[39m\u001b[38;5;124mMithil\u001b[39m\u001b[38;5;124m'\u001b[39m}\n\u001b[0;32m     13\u001b[0m \u001b[38;5;28mprint\u001b[39m(a)\n",
      "\u001b[1;31mTypeError\u001b[0m: unhashable type: 'list'"
     ]
    }
   ],
   "source": [
    "# 6. key is always immutable data type\n",
    "\n",
    "# imuatble\n",
    "# - str\n",
    "# - tuple\n",
    "# - int\n",
    "# - float\n",
    "# - True\n",
    "# - False\n",
    "# - complex\n",
    "\n",
    "a = {[1,2,3]:'Mithil'}\n",
    "print(a)"
   ]
  },
  {
   "cell_type": "code",
   "execution_count": null,
   "metadata": {},
   "outputs": [],
   "source": [
    "# here we have taken the key as a list which is mutable"
   ]
  },
  {
   "cell_type": "code",
   "execution_count": 39,
   "metadata": {},
   "outputs": [
    {
     "name": "stdout",
     "output_type": "stream",
     "text": [
      "{1: [1, 2, 3, 4]}\n"
     ]
    }
   ],
   "source": [
    "# 7. value can be any data type( mutable , immutable)\n",
    "\n",
    "a = {1:[1,2,3,4]}\n",
    "print(a)"
   ]
  },
  {
   "cell_type": "code",
   "execution_count": 40,
   "metadata": {},
   "outputs": [
    {
     "ename": "KeyError",
     "evalue": "0",
     "output_type": "error",
     "traceback": [
      "\u001b[1;31m---------------------------------------------------------------------------\u001b[0m",
      "\u001b[1;31mKeyError\u001b[0m                                  Traceback (most recent call last)",
      "Cell \u001b[1;32mIn[40], line 5\u001b[0m\n\u001b[0;32m      1\u001b[0m \u001b[38;5;66;03m# dic is not a seq data type\u001b[39;00m\n\u001b[0;32m      3\u001b[0m dic_a \u001b[38;5;241m=\u001b[39m {\u001b[38;5;124m'\u001b[39m\u001b[38;5;124mname\u001b[39m\u001b[38;5;124m'\u001b[39m:\u001b[38;5;124m'\u001b[39m\u001b[38;5;124mMithil\u001b[39m\u001b[38;5;124m'\u001b[39m , \u001b[38;5;124m'\u001b[39m\u001b[38;5;124mlastname\u001b[39m\u001b[38;5;124m'\u001b[39m:\u001b[38;5;124m'\u001b[39m\u001b[38;5;124msingh\u001b[39m\u001b[38;5;124m'\u001b[39m}\n\u001b[1;32m----> 5\u001b[0m dic_a[\u001b[38;5;241m0\u001b[39m]\n",
      "\u001b[1;31mKeyError\u001b[0m: 0"
     ]
    }
   ],
   "source": [
    "# dic is not a seq data type\n",
    "\n",
    "dic_a = {'name':'Mithil' , 'lastname':'singh'}\n",
    "\n",
    "dic_a[0]"
   ]
  },
  {
   "cell_type": "code",
   "execution_count": 41,
   "metadata": {},
   "outputs": [
    {
     "ename": "TypeError",
     "evalue": "unsupported operand type(s) for +: 'dict' and 'dict'",
     "output_type": "error",
     "traceback": [
      "\u001b[1;31m---------------------------------------------------------------------------\u001b[0m",
      "\u001b[1;31mTypeError\u001b[0m                                 Traceback (most recent call last)",
      "Cell \u001b[1;32mIn[41], line 8\u001b[0m\n\u001b[0;32m      3\u001b[0m dic_a \u001b[38;5;241m=\u001b[39m {\u001b[38;5;124m'\u001b[39m\u001b[38;5;124mname\u001b[39m\u001b[38;5;124m'\u001b[39m:\u001b[38;5;124m'\u001b[39m\u001b[38;5;124mMithil\u001b[39m\u001b[38;5;124m'\u001b[39m , \u001b[38;5;124m'\u001b[39m\u001b[38;5;124mlastname\u001b[39m\u001b[38;5;124m'\u001b[39m:\u001b[38;5;124m'\u001b[39m\u001b[38;5;124msingh\u001b[39m\u001b[38;5;124m'\u001b[39m}\n\u001b[0;32m      5\u001b[0m dic_b \u001b[38;5;241m=\u001b[39m {\u001b[38;5;124m'\u001b[39m\u001b[38;5;124mname\u001b[39m\u001b[38;5;124m'\u001b[39m:\u001b[38;5;124m'\u001b[39m\u001b[38;5;124mMithil\u001b[39m\u001b[38;5;124m'\u001b[39m , \u001b[38;5;124m'\u001b[39m\u001b[38;5;124mlastname\u001b[39m\u001b[38;5;124m'\u001b[39m:\u001b[38;5;124m'\u001b[39m\u001b[38;5;124msingh\u001b[39m\u001b[38;5;124m'\u001b[39m}\n\u001b[1;32m----> 8\u001b[0m dic_a \u001b[38;5;241m+\u001b[39m dic_b\n",
      "\u001b[1;31mTypeError\u001b[0m: unsupported operand type(s) for +: 'dict' and 'dict'"
     ]
    }
   ],
   "source": [
    "# concatination\n",
    "\n",
    "dic_a = {'name':'Mithil' , 'lastname':'singh'}\n",
    "\n",
    "dic_b = {'name':'Mithil' , 'lastname':'singh'}\n",
    "\n",
    "\n",
    "dic_a + dic_b"
   ]
  },
  {
   "cell_type": "code",
   "execution_count": 42,
   "metadata": {},
   "outputs": [
    {
     "ename": "TypeError",
     "evalue": "unsupported operand type(s) for *: 'dict' and 'int'",
     "output_type": "error",
     "traceback": [
      "\u001b[1;31m---------------------------------------------------------------------------\u001b[0m",
      "\u001b[1;31mTypeError\u001b[0m                                 Traceback (most recent call last)",
      "Cell \u001b[1;32mIn[42], line 6\u001b[0m\n\u001b[0;32m      3\u001b[0m dic_a \u001b[38;5;241m=\u001b[39m {\u001b[38;5;124m'\u001b[39m\u001b[38;5;124mname\u001b[39m\u001b[38;5;124m'\u001b[39m:\u001b[38;5;124m'\u001b[39m\u001b[38;5;124mMithil\u001b[39m\u001b[38;5;124m'\u001b[39m , \u001b[38;5;124m'\u001b[39m\u001b[38;5;124mlastname\u001b[39m\u001b[38;5;124m'\u001b[39m:\u001b[38;5;124m'\u001b[39m\u001b[38;5;124msingh\u001b[39m\u001b[38;5;124m'\u001b[39m}\n\u001b[0;32m      4\u001b[0m a \u001b[38;5;241m=\u001b[39m \u001b[38;5;241m2\u001b[39m\n\u001b[1;32m----> 6\u001b[0m dic_a \u001b[38;5;241m*\u001b[39m a\n",
      "\u001b[1;31mTypeError\u001b[0m: unsupported operand type(s) for *: 'dict' and 'int'"
     ]
    }
   ],
   "source": [
    "# repitioion\n",
    "\n",
    "dic_a = {'name':'Mithil' , 'lastname':'singh'}\n",
    "a = 2\n",
    "\n",
    "dic_a * a"
   ]
  },
  {
   "cell_type": "code",
   "execution_count": 43,
   "metadata": {},
   "outputs": [
    {
     "name": "stdout",
     "output_type": "stream",
     "text": [
      "True\n"
     ]
    }
   ],
   "source": [
    "# 10. membership op - only on keys\n",
    "\n",
    "dic_a = {'name':'Mithil' , 'lastname':'Singh'}\n",
    "\n",
    "print('name' in dic_a)"
   ]
  },
  {
   "cell_type": "code",
   "execution_count": 44,
   "metadata": {},
   "outputs": [
    {
     "data": {
      "text/plain": [
       "False"
      ]
     },
     "execution_count": 44,
     "metadata": {},
     "output_type": "execute_result"
    }
   ],
   "source": [
    "6 in [1,2,3,4]"
   ]
  },
  {
   "cell_type": "code",
   "execution_count": 45,
   "metadata": {},
   "outputs": [
    {
     "data": {
      "text/plain": [
       "True"
      ]
     },
     "execution_count": 45,
     "metadata": {},
     "output_type": "execute_result"
    }
   ],
   "source": [
    "4 in [1,2,3,4]"
   ]
  },
  {
   "cell_type": "code",
   "execution_count": 46,
   "metadata": {},
   "outputs": [
    {
     "name": "stdout",
     "output_type": "stream",
     "text": [
      "1876663282048\n",
      "1876682968832\n",
      "False\n"
     ]
    }
   ],
   "source": [
    "# 11. identity op\n",
    "\n",
    "dic_a = {'name':'Mithil' , 'lastname':'singh'}\n",
    "print(id(dic_a))\n",
    "\n",
    "dic_b = {'name':'Mithil' , 'lastname':'Singh'}\n",
    "print(id(dic_b))\n",
    "\n",
    "\n",
    "print(dic_a is dic_b)"
   ]
  },
  {
   "cell_type": "code",
   "execution_count": 47,
   "metadata": {},
   "outputs": [
    {
     "name": "stdout",
     "output_type": "stream",
     "text": [
      "{'name': 'rahul', 'lastname': 'Singh'}\n"
     ]
    }
   ],
   "source": [
    "# 12 it is mutable\n",
    "\n",
    "dic_a = {'name':'Mithil' , 'lastname':'Singh'}\n",
    "\n",
    "dic_a['name'] = \"rahul\"\n",
    "\n",
    "print(dic_a)"
   ]
  },
  {
   "cell_type": "code",
   "execution_count": 52,
   "metadata": {},
   "outputs": [
    {
     "data": {
      "text/plain": [
       "'Mithil'"
      ]
     },
     "execution_count": 52,
     "metadata": {},
     "output_type": "execute_result"
    }
   ],
   "source": [
    "a={'name':(\"Mithil\",\"vinay\"), 'age':(24,21)} \n",
    "a['name'][0]\n"
   ]
  },
  {
   "cell_type": "code",
   "execution_count": 53,
   "metadata": {},
   "outputs": [
    {
     "data": {
      "text/plain": [
       "(24, 21)"
      ]
     },
     "execution_count": 53,
     "metadata": {},
     "output_type": "execute_result"
    }
   ],
   "source": [
    "a['age']"
   ]
  },
  {
   "cell_type": "code",
   "execution_count": 55,
   "metadata": {},
   "outputs": [
    {
     "data": {
      "text/plain": [
       "'rahul'"
      ]
     },
     "execution_count": 55,
     "metadata": {},
     "output_type": "execute_result"
    }
   ],
   "source": [
    "employee_data = {'emp1':{'name':'Mithil' , 'age':22 , 'courses':['ai' , 'machine learning']} , \n",
    "                 'emp2':{'name':'rahul' ,'age':32 }}\n",
    "\n",
    "employee_data['emp2']['name']\n",
    "\n"
   ]
  },
  {
   "cell_type": "code",
   "execution_count": 56,
   "metadata": {},
   "outputs": [
    {
     "data": {
      "text/plain": [
       "32"
      ]
     },
     "execution_count": 56,
     "metadata": {},
     "output_type": "execute_result"
    }
   ],
   "source": [
    "employee_data['emp2']['age']"
   ]
  },
  {
   "cell_type": "code",
   "execution_count": 57,
   "metadata": {},
   "outputs": [
    {
     "data": {
      "text/plain": [
       "'gninrael enihcam'"
      ]
     },
     "execution_count": 57,
     "metadata": {},
     "output_type": "execute_result"
    }
   ],
   "source": [
    "employee_data = {'emp1':{'name':'afsan' , 'age':22 , 'courses':['ai' , 'machine learning']} , \n",
    "                 'emp2':{'name':'rahul' ,'age':32 }}\n",
    "\n",
    "employee_data['emp1']['courses'][1][::-1] "
   ]
  },
  {
   "cell_type": "code",
   "execution_count": null,
   "metadata": {},
   "outputs": [],
   "source": [
    "#reverse [::-1] "
   ]
  },
  {
   "cell_type": "code",
   "execution_count": null,
   "metadata": {},
   "outputs": [],
   "source": [
    "# Update the dic"
   ]
  },
  {
   "cell_type": "code",
   "execution_count": 58,
   "metadata": {},
   "outputs": [
    {
     "name": "stdout",
     "output_type": "stream",
     "text": [
      "{'emp1': {'name': 'Mithil', 'age': 22, 'courses': ['ai', 'machine learning']}, 'emp2': {'name': 'rahul', 'age': 32}, 'emp3': 100}\n"
     ]
    }
   ],
   "source": [
    "# 1. if key is not present\n",
    "employee_data = {'emp1':{'name':'Mithil' , 'age':22 , 'courses':['ai' , 'machine learning']} , \n",
    "                 'emp2':{'name':'rahul' ,'age':32 }}\n",
    "\n",
    "\n",
    "employee_data['emp3'] = 100\n",
    "\n",
    "print(employee_data)"
   ]
  },
  {
   "cell_type": "code",
   "execution_count": 59,
   "metadata": {},
   "outputs": [
    {
     "name": "stdout",
     "output_type": "stream",
     "text": [
      "{'emp1': {'name': 'Mithil', 'age': 22, 'courses': ['ai', 'machine learning']}, 'emp2': {'name': 'rahul', 'age': 32}, 'emp3': {'name': 'Priya', 'age': 20}}\n"
     ]
    }
   ],
   "source": [
    "employee_data = {'emp1':{'name':'Mithil' , 'age':22 , 'courses':['ai' , 'machine learning']} , \n",
    "                 'emp2':{'name':'rahul' ,'age':32 }}\n",
    "\n",
    "\n",
    "employee_data['emp3'] = {'name':'Priya' ,'age':20 }\n",
    "\n",
    "print(employee_data)"
   ]
  },
  {
   "cell_type": "code",
   "execution_count": 60,
   "metadata": {},
   "outputs": [
    {
     "name": "stdout",
     "output_type": "stream",
     "text": [
      "{'emp1': 200, 'emp2': {'name': 'rahul', 'age': 32}}\n"
     ]
    }
   ],
   "source": [
    "# 2. if key is present\n",
    "\n",
    "employee_data = {'emp1':{'name':'Mithil' , 'age':22 , 'courses':['ai' , 'machine learning']} , \n",
    "                 'emp2':{'name':'rahul' ,'age':32 }}\n",
    "\n",
    "\n",
    "employee_data['emp1'] = 200\n",
    "\n",
    "print(employee_data)"
   ]
  },
  {
   "cell_type": "code",
   "execution_count": 61,
   "metadata": {},
   "outputs": [
    {
     "name": "stdout",
     "output_type": "stream",
     "text": [
      "{'emp1': {'name': 'afsan', 'age': 22, 'courses': ['ai', 'machine learning'], 'mobile no.': 8888888888}, 'emp2': {'name': 'rahul', 'age': 32}}\n"
     ]
    }
   ],
   "source": [
    "employee_data = {'emp1':{'name':'afsan' , 'age':22 , 'courses':['ai' , 'machine learning']} , \n",
    "                 'emp2':{'name':'rahul' ,'age':32 }}\n",
    "\n",
    "\n",
    "employee_data['emp1']['mobile no.'] = 8888888888\n",
    "\n",
    "print(employee_data)"
   ]
  },
  {
   "cell_type": "code",
   "execution_count": null,
   "metadata": {},
   "outputs": [],
   "source": [
    "#1. method to add and access the element from the dic\n",
    "\n",
    "1. get\n",
    "2. update"
   ]
  },
  {
   "cell_type": "markdown",
   "metadata": {},
   "source": [
    "get\n",
    "if the key is present it returns the value , else deafult value"
   ]
  },
  {
   "cell_type": "code",
   "execution_count": 62,
   "metadata": {},
   "outputs": [
    {
     "data": {
      "text/plain": [
       "{'name': 'Mithil', 'age': 22, 'courses': ['ai', 'machine learning']}"
      ]
     },
     "execution_count": 62,
     "metadata": {},
     "output_type": "execute_result"
    }
   ],
   "source": [
    "# 1. if key is present\n",
    "\n",
    "employee_data = {'emp1':{'name':'Mithil' , 'age':22 , 'courses':['ai' , 'machine learning']} , \n",
    "                 'emp2':{'name':'rahul' ,'age':32 }}\n",
    "\n",
    "\n",
    "employee_data.get('emp1')"
   ]
  },
  {
   "cell_type": "code",
   "execution_count": 63,
   "metadata": {},
   "outputs": [
    {
     "name": "stdout",
     "output_type": "stream",
     "text": [
      "None\n"
     ]
    }
   ],
   "source": [
    "# 2. if key is not present\n",
    "\n",
    "employee_data = {'emp1':{'name':'Mithil' , 'age':22 , 'courses':['ai' , 'machine learning']} , \n",
    "                 'emp2':{'name':'rahul' ,'age':32 }}\n",
    "\n",
    "print(employee_data.get('emp3'))"
   ]
  },
  {
   "cell_type": "code",
   "execution_count": 64,
   "metadata": {},
   "outputs": [
    {
     "data": {
      "text/plain": [
       "{'name': 'afsan', 'age': 22, 'courses': ['ai', 'machine learning']}"
      ]
     },
     "execution_count": 64,
     "metadata": {},
     "output_type": "execute_result"
    }
   ],
   "source": [
    "# customise the message\n",
    "\n",
    "employee_data = {'emp1':{'name':'Mithil' , 'age':22 , 'courses':['ai' , 'machine learning']} , \n",
    "                 'emp2':{'name':'rahul' ,'age':32 }}\n",
    "\n",
    "employee_data.get('emp1', 'key is not present')"
   ]
  },
  {
   "cell_type": "code",
   "execution_count": 66,
   "metadata": {},
   "outputs": [
    {
     "data": {
      "text/plain": [
       "'key is not present'"
      ]
     },
     "execution_count": 66,
     "metadata": {},
     "output_type": "execute_result"
    }
   ],
   "source": [
    "# customise the message\n",
    "\n",
    "employee_data = {'emp1':{'name':'Mithil' , 'age':22 , 'courses':['ai' , 'machine learning']} , \n",
    "                 'emp2':{'name':'rahul' ,'age':32 }}\n",
    "\n",
    "employee_data.get('emp3', 'key is not present')"
   ]
  },
  {
   "cell_type": "code",
   "execution_count": 67,
   "metadata": {},
   "outputs": [
    {
     "data": {
      "text/plain": [
       "{'name': 'Mithil', 'age': 22, 'courses': ['ai', 'machine learning']}"
      ]
     },
     "execution_count": 67,
     "metadata": {},
     "output_type": "execute_result"
    }
   ],
   "source": [
    "employee_data['emp1']"
   ]
  },
  {
   "cell_type": "code",
   "execution_count": 68,
   "metadata": {},
   "outputs": [
    {
     "ename": "KeyError",
     "evalue": "'emp3'",
     "output_type": "error",
     "traceback": [
      "\u001b[1;31m---------------------------------------------------------------------------\u001b[0m",
      "\u001b[1;31mKeyError\u001b[0m                                  Traceback (most recent call last)",
      "Cell \u001b[1;32mIn[68], line 1\u001b[0m\n\u001b[1;32m----> 1\u001b[0m employee_data[\u001b[38;5;124m'\u001b[39m\u001b[38;5;124memp3\u001b[39m\u001b[38;5;124m'\u001b[39m]\n",
      "\u001b[1;31mKeyError\u001b[0m: 'emp3'"
     ]
    }
   ],
   "source": [
    "employee_data['emp3']"
   ]
  },
  {
   "cell_type": "code",
   "execution_count": null,
   "metadata": {},
   "outputs": [],
   "source": []
  },
  {
   "cell_type": "code",
   "execution_count": 69,
   "metadata": {},
   "outputs": [
    {
     "name": "stdout",
     "output_type": "stream",
     "text": [
      "{'emp1': {'name': 'Mithil', 'age': 22, 'courses': ['ai', 'machine learning']}, 'emp2': {'name': 'rahul', 'age': 32}, 'emp4': {'name': 'aditya'}, 'emp5': {'name': 'soniya'}}\n"
     ]
    }
   ],
   "source": [
    "# 2. update\n",
    "\n",
    "# updated method is similar to extent in list\n",
    "employee_data = {'emp1':{'name':'Mithil' , 'age':22 , 'courses':['ai' , 'machine learning']} , \n",
    "                 'emp2':{'name':'rahul' ,'age':32 }}\n",
    "\n",
    "\n",
    "new_data = {'emp4': {'name':'aditya'} , 'emp5': {'name':'soniya'}}\n",
    "\n",
    "employee_data.update(new_data)\n",
    "\n",
    "print(employee_data)\n"
   ]
  },
  {
   "cell_type": "code",
   "execution_count": 70,
   "metadata": {},
   "outputs": [],
   "source": [
    "a={'emp1':{'name':'varun', 'age':32,'courses':['ai','machine learning']},'emp2':{'name':'priyanka', 'age':24}}\n",
    "a.update({'emp2':'piyush'})"
   ]
  },
  {
   "cell_type": "code",
   "execution_count": 71,
   "metadata": {},
   "outputs": [
    {
     "data": {
      "text/plain": [
       "{'emp1': {'name': 'varun', 'age': 32, 'courses': ['ai', 'machine learning']},\n",
       " 'emp2': 'piyush'}"
      ]
     },
     "execution_count": 71,
     "metadata": {},
     "output_type": "execute_result"
    }
   ],
   "source": [
    "a"
   ]
  },
  {
   "cell_type": "code",
   "execution_count": 72,
   "metadata": {},
   "outputs": [
    {
     "data": {
      "text/plain": [
       "{'emp1': {'name': 'preeti'},\n",
       " 'emp2': {'name': 'sanjaya'},\n",
       " 'emp3': {'name': 'jai'}}"
      ]
     },
     "execution_count": 72,
     "metadata": {},
     "output_type": "execute_result"
    }
   ],
   "source": [
    "a = {'emp1' : {'name':'preeti'} , 'emp2':{'name':'afsaan'}}\n",
    "\n",
    "b = {'emp3' : {'name':'jai'} , 'emp2':{'name':'sanjaya'}}\n",
    "\n",
    "\n",
    "a.update(b)\n",
    "\n",
    "a"
   ]
  },
  {
   "cell_type": "code",
   "execution_count": 76,
   "metadata": {},
   "outputs": [],
   "source": [
    "a={'emp1' : {'name':'preeti'} , 'emp2':{'name':'afsaan'}, 'emp3' : {'name':'jai'} , 'emp2':{'name':'sanjaya'}}"
   ]
  },
  {
   "cell_type": "code",
   "execution_count": 77,
   "metadata": {},
   "outputs": [
    {
     "data": {
      "text/plain": [
       "{'emp1': {'name': 'preeti'},\n",
       " 'emp2': {'name': 'sanjaya'},\n",
       " 'emp3': {'name': 'jai'}}"
      ]
     },
     "execution_count": 77,
     "metadata": {},
     "output_type": "execute_result"
    }
   ],
   "source": [
    "a"
   ]
  },
  {
   "cell_type": "code",
   "execution_count": 74,
   "metadata": {},
   "outputs": [
    {
     "data": {
      "text/plain": [
       "56"
      ]
     },
     "execution_count": 74,
     "metadata": {},
     "output_type": "execute_result"
    }
   ],
   "source": [
    "a = {'emp1' : {'name':'preeti' , 'roll':56} , 'emp2':{'name':'afsaan'}}\n",
    "\n",
    "a.get('emp1').get('roll')"
   ]
  },
  {
   "cell_type": "code",
   "execution_count": 75,
   "metadata": {},
   "outputs": [
    {
     "data": {
      "text/plain": [
       "56"
      ]
     },
     "execution_count": 75,
     "metadata": {},
     "output_type": "execute_result"
    }
   ],
   "source": [
    "a['emp1']['roll']"
   ]
  },
  {
   "cell_type": "code",
   "execution_count": null,
   "metadata": {},
   "outputs": [],
   "source": []
  },
  {
   "cell_type": "code",
   "execution_count": null,
   "metadata": {},
   "outputs": [],
   "source": [
    "Memory Management in Python"
   ]
  },
  {
   "cell_type": "markdown",
   "metadata": {},
   "source": [
    "Understanding Memory allocation is important to any software developer as writing efficient code means writing a memory-efficient code. Memory allocation can be defined as allocating a block of space in the computer memory to a program. In Python memory allocation and deallocation method is automatic as the Python developers created a garbage collector for Python so that the user does not have to do manual garbage collection."
   ]
  },
  {
   "cell_type": "code",
   "execution_count": 78,
   "metadata": {},
   "outputs": [
    {
     "data": {
      "text/plain": [
       "140729373344840"
      ]
     },
     "execution_count": 78,
     "metadata": {},
     "output_type": "execute_result"
    }
   ],
   "source": [
    "x=10\n",
    "id(x)"
   ]
  },
  {
   "cell_type": "code",
   "execution_count": 80,
   "metadata": {},
   "outputs": [
    {
     "name": "stdout",
     "output_type": "stream",
     "text": [
      "140729373344840\n",
      "140729373344840\n",
      "x and y refer to the same object\n"
     ]
    }
   ],
   "source": [
    "y = x \n",
    "print(id(x))\n",
    "print(id(y))\n",
    "\n",
    "if id(x) == id(y): \n",
    "    print(\"x and y refer to the same object\") "
   ]
  },
  {
   "cell_type": "markdown",
   "metadata": {},
   "source": [
    "In the above example, y = x will create another reference variable y which will refer to the same object because Python optimizes memory utilization by allocation the same object reference to a new variable if the object already exists with the same value."
   ]
  },
  {
   "cell_type": "code",
   "execution_count": null,
   "metadata": {},
   "outputs": [],
   "source": [
    "Now, let’s change the value of x and see what happens."
   ]
  },
  {
   "cell_type": "code",
   "execution_count": 81,
   "metadata": {},
   "outputs": [
    {
     "name": "stdout",
     "output_type": "stream",
     "text": [
      "140729373344872\n",
      "140729373344840\n",
      "x and y do not refer to the same object\n"
     ]
    }
   ],
   "source": [
    "x = 10\n",
    "y = x \n",
    "x += 1\n",
    "print(id(x))\n",
    "print(id(y)) \n",
    "\n",
    "if id(x) != id(y): \n",
    "    print(\"x and y do not refer to the same object\") "
   ]
  },
  {
   "cell_type": "code",
   "execution_count": 82,
   "metadata": {},
   "outputs": [
    {
     "name": "stdout",
     "output_type": "stream",
     "text": [
      "x and y do not refer to the same object\n"
     ]
    }
   ],
   "source": [
    "x = 100\n",
    "y = x \n",
    "x += 5\n",
    "if id(x) == id(y): \n",
    "    print(\"x and y refer to the same object\") \n",
    "else:\n",
    "    print(\"x and y do not refer to the same object\")"
   ]
  },
  {
   "cell_type": "code",
   "execution_count": null,
   "metadata": {},
   "outputs": [],
   "source": [
    "Garbage Collection"
   ]
  },
  {
   "cell_type": "code",
   "execution_count": null,
   "metadata": {},
   "outputs": [],
   "source": [
    "Garbage collection is a process in which the interpreter frees up the memory when not in use to make it available for other objects.\n",
    "Assume a case where no reference is pointing to an object in memory i.e. it is not in use so, the virtual machine has a garbage collector that automatically deletes that object from the heap memory"
   ]
  },
  {
   "cell_type": "markdown",
   "metadata": {},
   "source": [
    "Python’s memory allocation and deallocation method is automatic. The user does not have to preallocate or deallocate memory similar to using dynamic memory allocation in languages such as C or C++. \n",
    "Python uses two strategies for memory allocation: \n",
    "\n",
    "Reference counting\n",
    "Garbage collection"
   ]
  },
  {
   "cell_type": "markdown",
   "metadata": {},
   "source": [
    "Reference counting\n",
    "Python and various other programming languages employ reference counting, a memory management approach, to automatically manage memory by tracking how many times an object is referenced. A reference count, or the number of references that point to an object, is a property of each object in the Python language. When an object’s reference count reaches zero, it becomes un-referenceable and its memory can be freed up.\n",
    "\n",
    "Examples :\n",
    "\n",
    "Example 1: Simple Reference Counting"
   ]
  },
  {
   "cell_type": "code",
   "execution_count": 95,
   "metadata": {},
   "outputs": [
    {
     "name": "stdout",
     "output_type": "stream",
     "text": [
      "1876697973312\n",
      "1876697973312\n",
      "140729371953936\n"
     ]
    }
   ],
   "source": [
    "# Create an object\n",
    "x = [1, 2, 3]\n",
    "print(id(x)) \n",
    "# Increment reference count\n",
    "y = x\n",
    "print(id(y)) \n",
    "# Decrement reference count\n",
    "y = None\n",
    "print(id(y))"
   ]
  },
  {
   "cell_type": "markdown",
   "metadata": {},
   "source": [
    "Example 2: Reference Counting with Cyclic Reference"
   ]
  },
  {
   "cell_type": "code",
   "execution_count": 96,
   "metadata": {},
   "outputs": [
    {
     "name": "stdout",
     "output_type": "stream",
     "text": [
      "Reference count of x: 2\n"
     ]
    }
   ],
   "source": [
    "# Get reference count\n",
    "import sys\n",
    "ref_count = sys.getrefcount(x)\n",
    " \n",
    "print(\"Reference count of x:\", ref_count)"
   ]
  },
  {
   "cell_type": "code",
   "execution_count": 97,
   "metadata": {},
   "outputs": [],
   "source": [
    "z=x"
   ]
  },
  {
   "cell_type": "code",
   "execution_count": 98,
   "metadata": {},
   "outputs": [
    {
     "name": "stdout",
     "output_type": "stream",
     "text": [
      "Reference count of x: 3\n"
     ]
    }
   ],
   "source": [
    "ref_count = sys.getrefcount(x)\n",
    " \n",
    "print(\"Reference count of x:\", ref_count)"
   ]
  },
  {
   "cell_type": "code",
   "execution_count": 99,
   "metadata": {},
   "outputs": [],
   "source": [
    "m=x"
   ]
  },
  {
   "cell_type": "code",
   "execution_count": 100,
   "metadata": {},
   "outputs": [
    {
     "name": "stdout",
     "output_type": "stream",
     "text": [
      "Reference count of x: 4\n"
     ]
    }
   ],
   "source": [
    "ref_count = sys.getrefcount(x)\n",
    " \n",
    "print(\"Reference count of x:\", ref_count)"
   ]
  },
  {
   "cell_type": "code",
   "execution_count": null,
   "metadata": {},
   "outputs": [],
   "source": []
  },
  {
   "cell_type": "code",
   "execution_count": 83,
   "metadata": {},
   "outputs": [
    {
     "name": "stdout",
     "output_type": "stream",
     "text": [
      "1876698461120\n",
      "1876698455552\n",
      "[1, 2, 3, [4, 5, 6]]\n",
      "1876698461120\n",
      "[4, 5, 6, [1, 2, 3, [...]]]\n",
      "1876698455552\n"
     ]
    }
   ],
   "source": [
    "# Create two objects that refer to each other\n",
    "x = [1, 2, 3]\n",
    "y = [4, 5, 6]\n",
    "print(id(x))\n",
    "print(id(y))\n",
    "x.append(y)\n",
    "print(x)\n",
    "print(id(x))\n",
    "y.append(x)\n",
    "print(y)\n",
    "print(id(y))"
   ]
  },
  {
   "cell_type": "code",
   "execution_count": null,
   "metadata": {},
   "outputs": [],
   "source": [
    "Garbage collection"
   ]
  },
  {
   "cell_type": "markdown",
   "metadata": {},
   "source": [
    "Garbage collection is a memory management technique used in programming languages to automatically reclaim memory that is no longer accessible or in use by the application. It helps prevent memory leaks, optimize memory usage, and ensure efficient memory allocation for the program."
   ]
  },
  {
   "cell_type": "code",
   "execution_count": null,
   "metadata": {},
   "outputs": [],
   "source": [
    "Automatic Garbage Collection of Cycles"
   ]
  },
  {
   "cell_type": "markdown",
   "metadata": {},
   "source": [
    "Because reference cycles take computational work to discover, garbage collection must be a scheduled activity. Python schedules garbage collection based upon a threshold of object allocations and object deallocations. When the number of allocations minus the number of deallocations is greater than the threshold number, the garbage collector is run. One can inspect the threshold for new objects (objects in Python known as generation 0 objects) by importing the gc module and asking for garbage collection thresholds: "
   ]
  },
  {
   "cell_type": "code",
   "execution_count": 101,
   "metadata": {},
   "outputs": [
    {
     "name": "stdout",
     "output_type": "stream",
     "text": [
      "Garbage collection thresholds: (700, 10, 10)\n"
     ]
    }
   ],
   "source": [
    "# loading gc\n",
    "import gc\n",
    " \n",
    "# get the current collection \n",
    "# thresholds as a tuple\n",
    "print(\"Garbage collection thresholds:\",\n",
    "                    gc.get_threshold())"
   ]
  },
  {
   "cell_type": "markdown",
   "metadata": {},
   "source": [
    "Here, the default threshold on the above system is 700. This means when the number of allocations vs. the number of deallocations is greater than 700 the automatic garbage collector will run. Thus any portion of your code which frees up large blocks of memory is a good candidate for running manual garbage collection. "
   ]
  },
  {
   "cell_type": "code",
   "execution_count": null,
   "metadata": {},
   "outputs": [],
   "source": []
  },
  {
   "cell_type": "code",
   "execution_count": null,
   "metadata": {},
   "outputs": [],
   "source": []
  },
  {
   "cell_type": "markdown",
   "metadata": {},
   "source": [
    "# please do more practice through GOOGLE sites , online sites\n"
   ]
  },
  {
   "cell_type": "code",
   "execution_count": null,
   "metadata": {},
   "outputs": [],
   "source": [
    "# website to practice\n",
    "\n",
    "https://www.hackerrank.com/\n",
    "\n",
    "https://leetcode.com/ "
   ]
  },
  {
   "cell_type": "code",
   "execution_count": null,
   "metadata": {},
   "outputs": [],
   "source": []
  },
  {
   "cell_type": "markdown",
   "metadata": {},
   "source": [
    "# conditional_statments"
   ]
  },
  {
   "cell_type": "code",
   "execution_count": null,
   "metadata": {},
   "outputs": [],
   "source": []
  },
  {
   "cell_type": "code",
   "execution_count": 90,
   "metadata": {},
   "outputs": [
    {
     "ename": "SyntaxError",
     "evalue": "expected ':' (3652566818.py, line 1)",
     "output_type": "error",
     "traceback": [
      "\u001b[1;36m  Cell \u001b[1;32mIn[90], line 1\u001b[1;36m\u001b[0m\n\u001b[1;33m    if statement\u001b[0m\n\u001b[1;37m                ^\u001b[0m\n\u001b[1;31mSyntaxError\u001b[0m\u001b[1;31m:\u001b[0m expected ':'\n"
     ]
    }
   ],
   "source": [
    "if statement"
   ]
  },
  {
   "cell_type": "code",
   "execution_count": 91,
   "metadata": {},
   "outputs": [
    {
     "name": "stdout",
     "output_type": "stream",
     "text": [
      "value of a 33\n",
      "hello\n"
     ]
    }
   ],
   "source": [
    "a = 33\n",
    "b=100\n",
    "if a<b:\n",
    "    print (\"value of a\",a)\n",
    "\n",
    "print('hello')"
   ]
  },
  {
   "cell_type": "code",
   "execution_count": 92,
   "metadata": {},
   "outputs": [
    {
     "name": "stdout",
     "output_type": "stream",
     "text": [
      "messi\n",
      "hello\n"
     ]
    }
   ],
   "source": [
    "a = 33\n",
    "b = 333\n",
    "if b>a:\n",
    "    print('messi')\n",
    "print('hello')"
   ]
  },
  {
   "cell_type": "code",
   "execution_count": 93,
   "metadata": {},
   "outputs": [
    {
     "name": "stdout",
     "output_type": "stream",
     "text": [
      "mbappe\n",
      "hello\n"
     ]
    }
   ],
   "source": [
    "a = 3333\n",
    "b = 333\n",
    "if b>a:\n",
    "    print('messi')\n",
    "if b==33:\n",
    "    print('ronaldo')\n",
    "if a<100:\n",
    "    print('neymr')\n",
    "else:\n",
    "    print('mbappe')\n",
    "print('hello')"
   ]
  },
  {
   "cell_type": "code",
   "execution_count": 94,
   "metadata": {},
   "outputs": [
    {
     "name": "stdout",
     "output_type": "stream",
     "text": [
      "neymr\n",
      "hello\n"
     ]
    }
   ],
   "source": [
    "a = 33\n",
    "b = 333\n",
    "if b<a:\n",
    "    print('messi')\n",
    "elif b==33:\n",
    "    print('ronaldo')\n",
    "elif a<100:\n",
    "    print('neymr')\n",
    "else:\n",
    "    print('mbappe')\n",
    "print('hello')"
   ]
  },
  {
   "cell_type": "code",
   "execution_count": 95,
   "metadata": {},
   "outputs": [
    {
     "name": "stdout",
     "output_type": "stream",
     "text": [
      "pallavi\n",
      "Rajesh\n"
     ]
    }
   ],
   "source": [
    "a = 200\n",
    "b = 100\n",
    "c = 700\n",
    "\n",
    "if a>b and c >a:\n",
    "    print('pallavi')\n",
    "elif not False:\n",
    "    print('vinjay')\n",
    "elif bool(44):\n",
    "    print('mithilesh')\n",
    "else:\n",
    "    print('vijay')\n",
    "print('Rajesh')"
   ]
  },
  {
   "cell_type": "code",
   "execution_count": 96,
   "metadata": {},
   "outputs": [
    {
     "name": "stdout",
     "output_type": "stream",
     "text": [
      "vijay\n",
      "Rajesh\n"
     ]
    }
   ],
   "source": [
    "a = 200\n",
    "b = 100\n",
    "c = 700\n",
    "\n",
    "if a<b or c<a:\n",
    "    print('pallavi')\n",
    "elif not False:\n",
    "    print('vijay')\n",
    "elif bool(44):\n",
    "    print('Prakash')\n",
    "else:\n",
    "    print('ali')\n",
    "print('Rajesh')"
   ]
  },
  {
   "cell_type": "code",
   "execution_count": 97,
   "metadata": {},
   "outputs": [
    {
     "name": "stdout",
     "output_type": "stream",
     "text": [
      "ali\n",
      "Rajesh\n"
     ]
    }
   ],
   "source": [
    "a = 200\n",
    "b = 100\n",
    "c = 700\n",
    "\n",
    "if a<b or c<a:\n",
    "    print('pallavi')\n",
    "elif not True:\n",
    "    print('vijay')\n",
    "elif bool(''):\n",
    "    print('Mithilesh')\n",
    "else:\n",
    "    print('ali')\n",
    "print('Rajesh')"
   ]
  },
  {
   "cell_type": "code",
   "execution_count": 98,
   "metadata": {},
   "outputs": [
    {
     "name": "stdout",
     "output_type": "stream",
     "text": [
      "world\n"
     ]
    }
   ],
   "source": [
    "# nested if - if inside if\n",
    "\n",
    "x = 9.9\n",
    "\n",
    "if x>10:\n",
    "    print('hey')\n",
    "    if x>20:\n",
    "        print('hello')\n",
    "    else:\n",
    "        print('bye')\n",
    "else:\n",
    "    print('world')"
   ]
  },
  {
   "cell_type": "code",
   "execution_count": 99,
   "metadata": {},
   "outputs": [
    {
     "name": "stdout",
     "output_type": "stream",
     "text": [
      "hey\n",
      "hello\n"
     ]
    }
   ],
   "source": [
    "x = 4.9\n",
    "\n",
    "if x<10:\n",
    "    print('hey')\n",
    "    if x<5:\n",
    "        print('hello')\n",
    "    else:\n",
    "        print('bye')\n",
    "else:\n",
    "    print('world')"
   ]
  },
  {
   "cell_type": "markdown",
   "metadata": {},
   "source": [
    "###  take a user input as a number from 0-4 and print the number in the word format\n",
    "\"\"\"\n",
    "2 ---> two\n",
    "4 --> four\n",
    "<0 and >4 --> invalid number\n",
    "\n",
    "\"\"\""
   ]
  },
  {
   "cell_type": "code",
   "execution_count": 101,
   "metadata": {},
   "outputs": [
    {
     "name": "stdout",
     "output_type": "stream",
     "text": [
      "enter the number100\n",
      "number not in range\n"
     ]
    }
   ],
   "source": [
    "num = int(input('enter the number'))\n",
    "if num == 0:\n",
    "    print('zero')\n",
    "elif num == 1:\n",
    "    print('one')\n",
    "elif num == 2:\n",
    "    print('two')\n",
    "elif num == 3:\n",
    "    print('three')\n",
    "elif num == 4:\n",
    "    print('four')\n",
    "else:\n",
    "    print('number not in range')"
   ]
  },
  {
   "cell_type": "code",
   "execution_count": null,
   "metadata": {},
   "outputs": [],
   "source": []
  },
  {
   "cell_type": "code",
   "execution_count": null,
   "metadata": {},
   "outputs": [],
   "source": []
  },
  {
   "cell_type": "code",
   "execution_count": null,
   "metadata": {},
   "outputs": [],
   "source": []
  },
  {
   "cell_type": "code",
   "execution_count": null,
   "metadata": {},
   "outputs": [],
   "source": []
  }
 ],
 "metadata": {
  "kernelspec": {
   "display_name": "Python 3 (ipykernel)",
   "language": "python",
   "name": "python3"
  },
  "language_info": {
   "codemirror_mode": {
    "name": "ipython",
    "version": 3
   },
   "file_extension": ".py",
   "mimetype": "text/x-python",
   "name": "python",
   "nbconvert_exporter": "python",
   "pygments_lexer": "ipython3",
   "version": "3.11.7"
  }
 },
 "nbformat": 4,
 "nbformat_minor": 4
}
