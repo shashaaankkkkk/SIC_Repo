{
 "cells": [
  {
   "cell_type": "markdown",
   "id": "99fc1244-0509-4b46-afdb-05c704f6a2c8",
   "metadata": {},
   "source": [
    "# Python Introduction"
   ]
  },
  {
   "cell_type": "code",
   "execution_count": 6,
   "id": "9b71722d-affb-403c-b660-426c26dbcbf3",
   "metadata": {},
   "outputs": [
    {
     "name": "stdout",
     "output_type": "stream",
     "text": [
      "hello\n",
      "['False', 'None', 'True', 'and', 'as', 'assert', 'async', 'await', 'break', 'class', 'continue', 'def', 'del', 'elif', 'else', 'except', 'finally', 'for', 'from', 'global', 'if', 'import', 'in', 'is', 'lambda', 'nonlocal', 'not', 'or', 'pass', 'raise', 'return', 'try', 'while', 'with', 'yield']\n"
     ]
    }
   ],
   "source": [
    "print(\"hello\") \n",
    "import keyword\n",
    "print(keyword.kwlist) # to print list of keywords in python"
   ]
  },
  {
   "cell_type": "markdown",
   "id": "20a6f6fb-9000-4aa7-870a-6dae8536407f",
   "metadata": {},
   "source": [
    "## LabelEncoder\n",
    "Label encoding is a technique used in machine learning and data analysis to convert categorical variables into numerical format. It is particularly useful when working with algorithms that require numerical input, as most machine learning models can only operate on numerical data. "
   ]
  },
  {
   "cell_type": "code",
   "execution_count": 9,
   "id": "9bf9cf01-de4a-46a5-af48-8fc27170ba3a",
   "metadata": {},
   "outputs": [],
   "source": [
    "a=\"\"\"if the things are \n",
    "pretty \n",
    "longggggggggggggggg\"\"\"\n"
   ]
  },
  {
   "cell_type": "code",
   "execution_count": 13,
   "id": "94bba156-2596-424b-a117-91ef3505f3c8",
   "metadata": {},
   "outputs": [
    {
     "data": {
      "text/plain": [
       "('something', 'somefbe')"
      ]
     },
     "execution_count": 13,
     "metadata": {},
     "output_type": "execute_result"
    }
   ],
   "source": [
    "a=\"something\",\"somefbe\"\n",
    "a"
   ]
  },
  {
   "cell_type": "code",
   "execution_count": 19,
   "id": "81299dbd-ed9a-43ed-8026-d020e40cb6ad",
   "metadata": {},
   "outputs": [
    {
     "name": "stdout",
     "output_type": "stream",
     "text": [
      "10101010101010101010\n",
      "10\n",
      "None\n"
     ]
    }
   ],
   "source": [
    "a=10\n",
    "b=str(10)\n",
    "print(a*b)\n",
    "#typeconversation\n",
    "str() # for convertion to string\n",
    "int() #for convertion to integer"
   ]
  },
  {
   "cell_type": "code",
   "execution_count": 21,
   "id": "9bb94681-fcba-4191-a2d9-dfadbeb6ab30",
   "metadata": {},
   "outputs": [
    {
     "data": {
      "text/plain": [
       "'/Users/shashank/Codebase/python/Jupyter Notebook'"
      ]
     },
     "execution_count": 21,
     "metadata": {},
     "output_type": "execute_result"
    }
   ],
   "source": [
    "#using os module in python\n",
    "import os \n",
    "os.getcwd()"
   ]
  },
  {
   "cell_type": "code",
   "execution_count": null,
   "id": "17731281-03ee-49a4-a5ee-cf817c767051",
   "metadata": {},
   "outputs": [],
   "source": [
    "magic command"
   ]
  }
 ],
 "metadata": {
  "kernelspec": {
   "display_name": "Python 3 (ipykernel)",
   "language": "python",
   "name": "python3"
  },
  "language_info": {
   "codemirror_mode": {
    "name": "ipython",
    "version": 3
   },
   "file_extension": ".py",
   "mimetype": "text/x-python",
   "name": "python",
   "nbconvert_exporter": "python",
   "pygments_lexer": "ipython3",
   "version": "3.12.3"
  }
 },
 "nbformat": 4,
 "nbformat_minor": 5
}
